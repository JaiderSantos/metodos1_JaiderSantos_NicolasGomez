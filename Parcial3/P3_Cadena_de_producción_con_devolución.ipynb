{
  "nbformat": 4,
  "nbformat_minor": 0,
  "metadata": {
    "colab": {
      "provenance": [],
      "include_colab_link": true
    },
    "kernelspec": {
      "name": "python3",
      "display_name": "Python 3"
    },
    "language_info": {
      "name": "python"
    }
  },
  "cells": [
    {
      "cell_type": "markdown",
      "metadata": {
        "id": "view-in-github",
        "colab_type": "text"
      },
      "source": [
        "<a href=\"https://colab.research.google.com/github/JaiderSantos/metodos1_JaiderSantos_NicolasGomez/blob/main/Parcial3/P3_Cadena_de_producci%C3%B3n_con_devoluci%C3%B3n.ipynb\" target=\"_parent\"><img src=\"https://colab.research.google.com/assets/colab-badge.svg\" alt=\"Open In Colab\"/></a>"
      ]
    },
    {
      "cell_type": "markdown",
      "source": [
        "##Problema 3 (Cadena de producción con devolución)"
      ],
      "metadata": {
        "id": "f1M0KOZAHlR6"
      }
    },
    {
      "cell_type": "code",
      "source": [],
      "metadata": {
        "id": "G9bometMBXtk"
      },
      "execution_count": null,
      "outputs": []
    },
    {
      "cell_type": "code",
      "execution_count": 1,
      "metadata": {
        "id": "Tn3UTYzh8kKa"
      },
      "outputs": [],
      "source": [
        "import numpy as np\n",
        "import matplotlib.pyplot as plt\n",
        "import pandas as pd\n",
        "import sympy as sym\n",
        "import scipy as sp\n",
        "import math\n"
      ]
    },
    {
      "cell_type": "markdown",
      "source": [
        "#A)Variables (Estados del producto)\n",
        "\n",
        "  1) Producción (con o sin defecto).\n",
        "\n",
        "  2) Empaque.\n",
        "\n",
        "  3) Mercado.\n",
        "\n",
        "#B)\n",
        "$S_1 =$ Producto en la estación de producción.\n",
        "\n",
        "$S_2 =$ Producto en la estación de empaque.\n",
        "\n",
        "$S_3 =$ Producto enviado al mercado."
      ],
      "metadata": {
        "id": "mAXxglUCC2C6"
      }
    },
    {
      "cell_type": "markdown",
      "source": [
        "#C) Matriz de transición\n",
        "\n",
        "\\begin{bmatrix}\n",
        "  & S_1 & S_2 & S_3\\\\\n",
        "S_1 & 0.1 & 0.9 & 0 \\\\\n",
        "S_2 & 0 & 0.05 & 0.95\\\\\n",
        "S_3 & 0.02 & 0 & 0.98\n",
        "\\end{bmatrix}\n",
        "\n",
        "\n"
      ],
      "metadata": {
        "id": "LoMGGcwcE1Ol"
      }
    },
    {
      "cell_type": "code",
      "source": [
        "P = np.array([[ 0.1, 0.9, 0], [0, 0.05, 0.95], [0.02, 0, 0.98]])\n",
        "P"
      ],
      "metadata": {
        "colab": {
          "base_uri": "https://localhost:8080/"
        },
        "id": "pDSTUuTHHXhM",
        "outputId": "a326a371-1518-4a8f-e9e3-83c6d734cc82"
      },
      "execution_count": 2,
      "outputs": [
        {
          "output_type": "execute_result",
          "data": {
            "text/plain": [
              "array([[0.1 , 0.9 , 0.  ],\n",
              "       [0.  , 0.05, 0.95],\n",
              "       [0.02, 0.  , 0.98]])"
            ]
          },
          "metadata": {},
          "execution_count": 2
        }
      ]
    },
    {
      "cell_type": "markdown",
      "source": [
        "#D) Estado estable\n",
        "\n"
      ],
      "metadata": {
        "id": "6d6O-fsaHj-N"
      }
    },
    {
      "cell_type": "code",
      "source": [
        "pi1, pi2, pi3 = sym.symbols('pi1 pi2 pi3')\n",
        "pi = [pi1, pi2, pi3]\n",
        "Id = np.array([[1, 0, 0], [0, 1, 0], [0, 0, 1]])\n",
        "P_I = P.T - Id\n",
        "eqc = sym.Eq(pi[0] + pi[1] + pi[2], 1)\n",
        "Eq1 = sym.Eq(P_I[0][0]*pi[0] + P_I[0][1]*pi[1] + P_I[0][2]*pi[2], 0)\n",
        "Eq2 = sym.Eq(P_I[1][0]*pi[0] + P_I[1][1]*pi[1] + P_I[1][2]*pi[2], 0)\n",
        "Eq3 = sym.Eq(P_I[2][0]*pi[0] + P_I[2][1]*pi[1] + P_I[2][2]*pi[2], 0)\n",
        "sols = sym.solve([Eq1, Eq2, Eq3, eqc], pi)\n",
        "print(f'pi1 = {sols[pi1]}')\n",
        "print(f'pi2 = {sols[pi2]}')\n",
        "print(f'pi3 = {sols[pi3]}')\n",
        "print(f'Probabilidad en estado estable de que ambas estaciones estén ocupadas al mismo tiempo es :{sols[pi1]*sols[pi2]}')\n",
        "print(f'Probabilidad en estado estable de que al menos una estación esté ocupada es :{sols[pi1]+sols[pi2]}')\n",
        "print(f'Probabilidad en estado estable de que la estación de producción esté vacía es :{1-sols[pi1]}')"
      ],
      "metadata": {
        "colab": {
          "base_uri": "https://localhost:8080/"
        },
        "id": "pR4r6MVMPxHK",
        "outputId": "0dbc4a27-f1b4-4d61-8679-72045e8426ba"
      },
      "execution_count": 4,
      "outputs": [
        {
          "output_type": "stream",
          "name": "stdout",
          "text": [
            "pi1 = 0.0213004484304933\n",
            "pi2 = 0.0201793721973094\n",
            "pi3 = 0.958520179372197\n",
            "Probabilidad en estado estable de que ambas estaciones estén ocupadas al mismo tiempo es :0.000429829676848519\n",
            "Probabilidad en estado estable de que al menos una estación esté ocupada es :0.0414798206278027\n",
            "Probabilidad en estado estable de que la estación de producción esté vacía es :0.978699551569507\n"
          ]
        }
      ]
    },
    {
      "cell_type": "code",
      "source": [],
      "metadata": {
        "id": "h0qg0U-Orqgp"
      },
      "execution_count": 3,
      "outputs": []
    }
  ]
}