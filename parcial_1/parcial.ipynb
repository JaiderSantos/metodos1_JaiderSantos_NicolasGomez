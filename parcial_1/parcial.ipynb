{
  "nbformat": 4,
  "nbformat_minor": 0,
  "metadata": {
    "colab": {
      "provenance": [],
      "authorship_tag": "ABX9TyOLX3qSMgRxelNJ/ZjjxWEK",
      "include_colab_link": true
    },
    "kernelspec": {
      "name": "python3",
      "display_name": "Python 3"
    },
    "language_info": {
      "name": "python"
    }
  },
  "cells": [
    {
      "cell_type": "markdown",
      "metadata": {
        "id": "view-in-github",
        "colab_type": "text"
      },
      "source": [
        "<a href=\"https://colab.research.google.com/github/JaiderSantos/metodos1_JaiderSantos_NicolasGomez/blob/main/parcial_1/parcial.ipynb\" target=\"_parent\"><img src=\"https://colab.research.google.com/assets/colab-badge.svg\" alt=\"Open In Colab\"/></a>"
      ]
    },
    {
      "cell_type": "code",
      "execution_count": 5,
      "metadata": {
        "id": "n1V9Bxb62RWO"
      },
      "outputs": [],
      "source": [
        "import numpy as np\n",
        "import sympy as sp\n",
        "import matplotlib.pyplot as plt"
      ]
    },
    {
      "cell_type": "code",
      "source": [
        "x = sp.symbols('x')\n",
        "\n",
        "\n",
        "def laguerre_polynomial(n):\n",
        "    return sp.exp(x) / sp.factorial(n) * sp.diff((x**n * sp.exp(-x)), x, n)\n",
        "\n",
        "def encontrar_raices_laguerre(n):\n",
        "    L_n = laguerre_polynomial(n)\n",
        "    raices = sp.nroots(L_n, n=15)\n",
        "    return np.array(raices, dtype=float)"
      ],
      "metadata": {
        "id": "QyLyM3opJ6e5"
      },
      "execution_count": 13,
      "outputs": []
    },
    {
      "cell_type": "code",
      "source": [
        "laguerra = laguerre_polynomial(x)\n",
        "raiz_1 = encontrar_raices_laguerre(1)\n",
        "raiz_2 = encontrar_raices_laguerre(2)\n",
        "raiz_3 = encontrar_raices_laguerre(3)\n",
        "raiz_4 = encontrar_raices_laguerre(4)\n",
        "raiz_5 = encontrar_raices_laguerre(5)\n",
        "print(raiz_1)\n",
        "print(raiz_2)\n",
        "print(raiz_3)\n",
        "print(raiz_4)\n",
        "print(raiz_5)"
      ],
      "metadata": {
        "colab": {
          "base_uri": "https://localhost:8080/"
        },
        "id": "EaDPm_NvLFXl",
        "outputId": "e691a9ac-5812-4dac-d26d-27d2c33e46f2"
      },
      "execution_count": 20,
      "outputs": [
        {
          "output_type": "stream",
          "name": "stdout",
          "text": [
            "[1.]\n",
            "[0.58578644 3.41421356]\n",
            "[0.41577456 2.29428036 6.28994508]\n",
            "[0.32254769 1.7457611  4.5366203  9.39507091]\n",
            "[ 0.26356032  1.41340306  3.59642577  7.08581001 12.64080084]\n"
          ]
        }
      ]
    },
    {
      "cell_type": "code",
      "source": [],
      "metadata": {
        "id": "E2Q623yCJtgS"
      },
      "execution_count": null,
      "outputs": []
    },
    {
      "cell_type": "code",
      "source": [
        "def GetAllRoots(x, tolerancia = 16):\n",
        "\n",
        "  Roots = np.array([])\n",
        "\n",
        "  for i in x:\n",
        "\n",
        "    root = GetNewtonMethod(Function,Derivative,i)\n",
        "\n",
        "    if root != False:\n",
        "\n",
        "      croot = np.round( root, tolerancia)\n",
        "\n",
        "      if croot not in Roots:\n",
        "        Roots = np.append(Roots,croot)\n",
        "\n",
        "  Roots.sort()\n",
        "\n",
        "  return Roots"
      ],
      "metadata": {
        "id": "ViBMwTd3Iidz"
      },
      "execution_count": 6,
      "outputs": []
    },
    {
      "cell_type": "code",
      "source": [],
      "metadata": {
        "id": "_Z2iNrVSIwUH"
      },
      "execution_count": null,
      "outputs": []
    }
  ]
}