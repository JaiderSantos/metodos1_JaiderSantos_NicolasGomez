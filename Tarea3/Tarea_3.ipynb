{
  "nbformat": 4,
  "nbformat_minor": 0,
  "metadata": {
    "colab": {
      "provenance": [],
      "include_colab_link": true
    },
    "kernelspec": {
      "name": "python3",
      "display_name": "Python 3"
    },
    "language_info": {
      "name": "python"
    }
  },
  "cells": [
    {
      "cell_type": "markdown",
      "metadata": {
        "id": "view-in-github",
        "colab_type": "text"
      },
      "source": [
        "<a href=\"https://colab.research.google.com/github/JaiderSantos/metodos1_JaiderSantos_NicolasGomez/blob/main/Tarea3/Tarea_3.ipynb\" target=\"_parent\"><img src=\"https://colab.research.google.com/assets/colab-badge.svg\" alt=\"Open In Colab\"/></a>"
      ]
    },
    {
      "cell_type": "code",
      "execution_count": 2,
      "metadata": {
        "id": "H8L0oJ3I3xjJ"
      },
      "outputs": [],
      "source": [
        "import numpy as np\n",
        "import matplotlib.pyplot as plt\n",
        "import sympy as sp"
      ]
    },
    {
      "cell_type": "code",
      "source": [
        "x = sp.Symbol('x')\n",
        "x"
      ],
      "metadata": {
        "colab": {
          "base_uri": "https://localhost:8080/",
          "height": 39
        },
        "id": "Cf4Ge4OAAbr2",
        "outputId": "ab9994d9-94a2-4129-cee1-59f4e3a7be09"
      },
      "execution_count": 3,
      "outputs": [
        {
          "output_type": "execute_result",
          "data": {
            "text/plain": [
              "x"
            ],
            "text/latex": "$\\displaystyle x$"
          },
          "metadata": {},
          "execution_count": 3
        }
      ]
    },
    {
      "cell_type": "code",
      "source": [
        "#derivada\n",
        "def dx(f,x):\n",
        "  h = 1e-6\n",
        "  return (f(x+h)-f(x-h))/(2*h)"
      ],
      "metadata": {
        "id": "1vcH5ftc4cOX"
      },
      "execution_count": 4,
      "outputs": []
    },
    {
      "cell_type": "code",
      "source": [
        "#método de trapecio\n",
        "def trapezoid(f,a,b,n):\n",
        "  h= (b-a)/n\n",
        "  integral = 0\n",
        "  for i in range(1,n):\n",
        "    integral += f(a+i*h)\n",
        "  return h*(0.5*(f(a)+f(b))+integral)\n"
      ],
      "metadata": {
        "id": "CVUaB9NB4bpI"
      },
      "execution_count": 5,
      "outputs": []
    },
    {
      "cell_type": "code",
      "source": [
        "#metodo de  simpson 1/3\n",
        "def simpson13(f,a,b,n):\n",
        "  h = (b-a)/n\n",
        "  integral = 0\n",
        "  for i in range(1,n):\n",
        "    if i%2 == 0:\n",
        "      integral += 2*f(a+i*h)\n",
        "    else:\n",
        "      integral += 4*f(a+i*h)\n",
        "  return h/3*(f(a)+f(b)+integral)"
      ],
      "metadata": {
        "id": "B519ulH-eUdU"
      },
      "execution_count": 6,
      "outputs": []
    },
    {
      "cell_type": "markdown",
      "source": [
        "# Problema 5"
      ],
      "metadata": {
        "id": "JcanCVVUBDqW"
      }
    },
    {
      "cell_type": "code",
      "source": [
        "def f(x):\n",
        "  return np.exp(-x**2)\n"
      ],
      "metadata": {
        "id": "nak__M6w-tzo"
      },
      "execution_count": 7,
      "outputs": []
    },
    {
      "cell_type": "code",
      "source": [
        "Y_primitiva = trapezoid(f,0,1,100000)\n",
        "print(Y_primitiva)"
      ],
      "metadata": {
        "colab": {
          "base_uri": "https://localhost:8080/"
        },
        "id": "Cjp-sZxm-zaD",
        "outputId": "13ed9f6d-6639-4d4b-bd0b-dcdd81f7f4e2"
      },
      "execution_count": 8,
      "outputs": [
        {
          "output_type": "stream",
          "name": "stdout",
          "text": [
            "0.7468241328062873\n"
          ]
        }
      ]
    },
    {
      "cell_type": "markdown",
      "source": [
        "# problema 6"
      ],
      "metadata": {
        "id": "82bS1lm_dNLn"
      }
    },
    {
      "cell_type": "code",
      "source": [
        "def f(x):\n",
        "  return (np.sqrt((0.01**2) - x**2))/(0.5+x)"
      ],
      "metadata": {
        "id": "vL9Ku_EAdN_W"
      },
      "execution_count": 9,
      "outputs": []
    },
    {
      "cell_type": "code",
      "source": [
        "integral_trap = trapezoid(f,-0.01,0.01,1000000)\n",
        "integral_simp = simpson13(f,-0.01,0.01,100000)\n",
        "error_estimado = np.abs((integral_simp-integral_trap)/integral_simp)*100\n",
        "print(integral_trap,integral_simp,error_estimado)\n",
        "#el error estimado de la integral de la función es 1.201993729240996e-06%"
      ],
      "metadata": {
        "id": "a83m7k9Y-8pr",
        "colab": {
          "base_uri": "https://localhost:8080/"
        },
        "outputId": "f48ca1a8-dabc-4ef1-b2dd-cc9b0d748ed9"
      },
      "execution_count": 10,
      "outputs": [
        {
          "output_type": "stream",
          "name": "stdout",
          "text": [
            "0.0003141906872375271 0.00031419068346097477 1.201993729240996e-06\n"
          ]
        }
      ]
    },
    {
      "cell_type": "markdown",
      "source": [
        "# problema 7\n"
      ],
      "metadata": {
        "id": "hiWWZDVA5RhD"
      }
    },
    {
      "cell_type": "code",
      "source": [
        "X = np.linspace(-1,1,100)\n",
        "Y = np.linspace(-1,1,100)\n",
        "X,Y = np.meshgrid(X,Y)"
      ],
      "metadata": {
        "id": "dRZ71nV5uI1k"
      },
      "execution_count": 12,
      "outputs": []
    },
    {
      "cell_type": "code",
      "source": [
        "def z(x,y,R):\n",
        "  return np.sqrt(r**2-(x**2+y**2))"
      ],
      "metadata": {
        "id": "BSe80w8n91Ae"
      },
      "execution_count": 13,
      "outputs": []
    },
    {
      "cell_type": "code",
      "source": [],
      "metadata": {
        "id": "iA_hIIVABROf"
      },
      "execution_count": null,
      "outputs": []
    }
  ]
}