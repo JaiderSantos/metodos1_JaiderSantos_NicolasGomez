{
  "nbformat": 4,
  "nbformat_minor": 0,
  "metadata": {
    "colab": {
      "provenance": [],
      "include_colab_link": true
    },
    "kernelspec": {
      "name": "python3",
      "display_name": "Python 3"
    },
    "language_info": {
      "name": "python"
    }
  },
  "cells": [
    {
      "cell_type": "markdown",
      "metadata": {
        "id": "view-in-github",
        "colab_type": "text"
      },
      "source": [
        "<a href=\"https://colab.research.google.com/github/JaiderSantos/metodos1_JaiderSantos_NicolasGomez/blob/main/Tarea3/Tarea_3.ipynb\" target=\"_parent\"><img src=\"https://colab.research.google.com/assets/colab-badge.svg\" alt=\"Open In Colab\"/></a>"
      ]
    },
    {
      "cell_type": "code",
      "execution_count": 2,
      "metadata": {
        "id": "H8L0oJ3I3xjJ"
      },
      "outputs": [],
      "source": [
        "import numpy as np\n",
        "import matplotlib.pyplot as plt\n",
        "import sympy as sp"
      ]
    },
    {
      "cell_type": "code",
      "source": [
        "x = sp.Symbol('x')\n",
        "x"
      ],
      "metadata": {
        "colab": {
          "base_uri": "https://localhost:8080/",
          "height": 39
        },
        "id": "Cf4Ge4OAAbr2",
        "outputId": "ec439faf-9d1d-4d95-9617-bf2eac5ce2ba"
      },
      "execution_count": 3,
      "outputs": [
        {
          "output_type": "execute_result",
          "data": {
            "text/plain": [
              "x"
            ],
            "text/latex": "$\\displaystyle x$"
          },
          "metadata": {},
          "execution_count": 3
        }
      ]
    },
    {
      "cell_type": "code",
      "source": [
        "#derivada\n",
        "def dx(f,x):\n",
        "  h = 1e-6\n",
        "  return (f(x+h)-f(x-h))/(2*h)"
      ],
      "metadata": {
        "id": "1vcH5ftc4cOX"
      },
      "execution_count": 4,
      "outputs": []
    },
    {
      "cell_type": "code",
      "source": [
        "#método de trapecio\n",
        "def trapezoid(f,a,b,n):\n",
        "  h= (b-a)/n\n",
        "  integral = 0\n",
        "  for i in range(1,n):\n",
        "    integral += f(a+i*h)\n",
        "  return h*(0.5*(f(a)+f(b))+integral)\n"
      ],
      "metadata": {
        "id": "CVUaB9NB4bpI"
      },
      "execution_count": 5,
      "outputs": []
    },
    {
      "cell_type": "code",
      "source": [
        "#metodo de  simpson 1/3\n",
        "def simpson13(f,a,b,n):\n",
        "  h = (b-a)/n\n",
        "  integral = 0\n",
        "  for i in range(1,n):\n",
        "    if i%2 == 0:\n",
        "      integral += 2*f(a+i*h)\n",
        "    else:\n",
        "      integral += 4*f(a+i*h)\n",
        "  return h/3*(f(a)+f(b)+integral)"
      ],
      "metadata": {
        "id": "B519ulH-eUdU"
      },
      "execution_count": 6,
      "outputs": []
    },
    {
      "cell_type": "markdown",
      "source": [
        "# Problema 5"
      ],
      "metadata": {
        "id": "JcanCVVUBDqW"
      }
    },
    {
      "cell_type": "code",
      "source": [
        "def f(x):\n",
        "  return np.exp(-x**2)\n"
      ],
      "metadata": {
        "id": "nak__M6w-tzo"
      },
      "execution_count": 7,
      "outputs": []
    },
    {
      "cell_type": "code",
      "source": [
        "Y_primitiva = trapezoid(f,0,1,100000)\n",
        "print(Y_primitiva)"
      ],
      "metadata": {
        "colab": {
          "base_uri": "https://localhost:8080/"
        },
        "id": "Cjp-sZxm-zaD",
        "outputId": "79c8208c-c2d4-4ad0-d2b2-d5aa3790717c"
      },
      "execution_count": 8,
      "outputs": [
        {
          "output_type": "stream",
          "name": "stdout",
          "text": [
            "0.7468241328062873\n"
          ]
        }
      ]
    },
    {
      "cell_type": "markdown",
      "source": [
        "# problema 6"
      ],
      "metadata": {
        "id": "82bS1lm_dNLn"
      }
    },
    {
      "cell_type": "code",
      "source": [
        "def f(x):\n",
        "  return (np.sqrt((0.01**2) - x**2))/(0.5+x)"
      ],
      "metadata": {
        "id": "vL9Ku_EAdN_W"
      },
      "execution_count": 9,
      "outputs": []
    },
    {
      "cell_type": "code",
      "source": [
        "integral_trap = trapezoid(f,-0.01,0.01,1000000)\n",
        "integral_simp = simpson13(f,-0.01,0.01,100000)\n",
        "error_estimado = np.abs((integral_simp-integral_trap)/integral_simp)*100\n",
        "print(integral_trap,integral_simp,error_estimado)\n",
        "#el error estimado de la integral de la función es 1.201993729240996e-06%"
      ],
      "metadata": {
        "id": "a83m7k9Y-8pr",
        "colab": {
          "base_uri": "https://localhost:8080/"
        },
        "outputId": "0dffed42-d7be-4ba1-c146-6854af79aba3"
      },
      "execution_count": 10,
      "outputs": [
        {
          "output_type": "stream",
          "name": "stdout",
          "text": [
            "0.0003141906872375271 0.00031419068346097477 1.201993729240996e-06\n"
          ]
        }
      ]
    },
    {
      "cell_type": "markdown",
      "source": [
        "# problema 7\n"
      ],
      "metadata": {
        "id": "hiWWZDVA5RhD"
      }
    },
    {
      "cell_type": "code",
      "source": [
        "#generar la grilla xy\n",
        "X = np.linspace(-1,1,1001)\n",
        "print(X)\n",
        "Y = np.linspace(-1,1,1001)\n",
        "\n"
      ],
      "metadata": {
        "id": "dRZ71nV5uI1k",
        "colab": {
          "base_uri": "https://localhost:8080/"
        },
        "outputId": "19dfb28c-25ae-4bdf-970e-7d21e4fc26d2"
      },
      "execution_count": 11,
      "outputs": [
        {
          "output_type": "stream",
          "name": "stdout",
          "text": [
            "[-1.    -0.998 -0.996 ...  0.996  0.998  1.   ]\n"
          ]
        }
      ]
    },
    {
      "cell_type": "code",
      "source": [
        "#Funcion altura\n",
        "\n",
        "def z(x,y,R):\n",
        "  return np.sqrt(R**2-(x**2+y**2))\n",
        "\n",
        "#Funcion altura promedio por cuadro de grilla\n",
        "\n",
        "def altura_prom_z(x, y, R, n=1000):\n",
        "    delta_vol = ((2*R)/n)**2  # Área de cada cuadrado pequeño\n",
        "    volumen_total = 0\n",
        "\n",
        "\n",
        "    for i in range(n):\n",
        "        for j in range(n):\n",
        "            # Calcular la altura en los 4 vértices del cuadrado pequeño\n",
        "            if x[i]**2 + y[j]**2 <= R**2:\n",
        "                f1 = z(x[i], y[j], R)\n",
        "            else:\n",
        "                f1 = 0\n",
        "\n",
        "            if x[i+1]**2 + y[j]**2 <= R**2:\n",
        "                f2 = z(x[i+1], y[j], R)\n",
        "            else:\n",
        "                f2 = 0\n",
        "\n",
        "            if x[i]**2 + y[j+1]**2 <= R**2:\n",
        "                f3 = z(x[i], y[j+1], R)\n",
        "            else:\n",
        "                f3 = 0\n",
        "\n",
        "            if x[i+1]**2 + y[j+1]**2 <= R**2:\n",
        "                f4 = z(x[i+1], y[j+1], R)\n",
        "            else:\n",
        "                f4 = 0\n",
        "\n",
        "            # Promedio de los 4 vértices y añadir al volumen total\n",
        "            promedio = (f1 + f2 + f3 + f4) / 4\n",
        "            volumen_total += promedio * delta_vol\n",
        "\n",
        "    return volumen_total\n"
      ],
      "metadata": {
        "id": "BSe80w8n91Ae"
      },
      "execution_count": 12,
      "outputs": []
    },
    {
      "cell_type": "code",
      "source": [
        "altura_funcion = altura_prom_z(X,Y,1)\n",
        "altura_funcion"
      ],
      "metadata": {
        "colab": {
          "base_uri": "https://localhost:8080/"
        },
        "id": "iA_hIIVABROf",
        "outputId": "fbd98e48-ea00-4835-902d-70e1b301f6e6"
      },
      "execution_count": 13,
      "outputs": [
        {
          "output_type": "execute_result",
          "data": {
            "text/plain": [
              "2.0943883788630453"
            ]
          },
          "metadata": {},
          "execution_count": 13
        }
      ]
    },
    {
      "cell_type": "markdown",
      "source": [
        "# Problema 9"
      ],
      "metadata": {
        "id": "jZ7eQdbSonvW"
      }
    },
    {
      "cell_type": "code",
      "source": [
        "x = sp.Symbol('x')\n",
        "h = sp.Symbol('h')"
      ],
      "metadata": {
        "id": "g6-Kzeb8raf_"
      },
      "execution_count": 14,
      "outputs": []
    },
    {
      "cell_type": "code",
      "source": [
        "#discretización de 0 a 3*h\n",
        "x0 = 0\n",
        "x1 = h\n",
        "x2 = 2 * h\n",
        "x3 = 3 * h\n",
        "# Definir las funciones f en esos puntos\n",
        "f0 = sp.Function('f')(x0)\n",
        "f1 = sp.Function('f')(x1)\n",
        "f2 = sp.Function('f')(x2)\n",
        "f3 = sp.Function('f')(x3)\n",
        "#Lagrange manual\n",
        "L0 = ((x - x1)*(x - x2)*(x - x3)) / ((x0 - x1)*(x0 - x2)*(x0 - x3))\n",
        "L1 = ((x - x0)*(x - x2)*(x - x3)) / ((x1 - x0)*(x1 - x2)*(x1 - x3))\n",
        "L2 = ((x - x0)*(x - x1)*(x - x3)) / ((x2 - x0)*(x2 - x1)*(x2 - x3))\n",
        "L3 = ((x - x0)*(x - x1)*(x - x2)) / ((x3 - x0)*(x3 - x1)*(x3 - x2))\n",
        "#Aproximar funcion p(X)=f0*L0 +...+ fn*Ln\n",
        "p = f0*L0 + f1*L1 + f2*L2 + f3*L3\n",
        "#integrar y simplificar\n",
        "integral = sp.simplify(sp.integrate(p,(x,0,3*h)))\n",
        "print(integral)"
      ],
      "metadata": {
        "id": "82RRJprKxjLG",
        "outputId": "8b5e13da-62e0-4962-8791-78008120bc38",
        "colab": {
          "base_uri": "https://localhost:8080/"
        }
      },
      "execution_count": 15,
      "outputs": [
        {
          "output_type": "stream",
          "name": "stdout",
          "text": [
            "3*h*(f(0) + 3*f(h) + 3*f(2*h) + f(3*h))/8\n"
          ]
        }
      ]
    },
    {
      "cell_type": "markdown",
      "source": [
        "## Problema 10"
      ],
      "metadata": {
        "id": "UE7Tcj5ss1E0"
      }
    },
    {
      "cell_type": "code",
      "source": [
        "def error(x,x0,x1,x2,x3):\n",
        "  return (x-x0)*(x-x1)*(x-x2)*(x-x3)\n",
        "\n",
        "xi = sp.Symbol(\"xi\")\n",
        "f_4 = sp.Function(\"f^4\")(xi)"
      ],
      "metadata": {
        "id": "JTJOrFdwsYbF"
      },
      "execution_count": 44,
      "outputs": []
    },
    {
      "cell_type": "code",
      "source": [
        "poli_error = error(x,x0,x1,x2,x3)\n",
        "integral_error = sp.simplify(sp.integrate(poli_error,(x,x0,x3)))\n",
        "error_simp38= ((f_4)/(sp.factorial(4)))*integral_error\n",
        "error_simp38"
      ],
      "metadata": {
        "id": "Bqt397CKtvx9",
        "outputId": "46648444-8be2-42ad-a987-2c48f4242d65",
        "colab": {
          "base_uri": "https://localhost:8080/",
          "height": 54
        }
      },
      "execution_count": 45,
      "outputs": [
        {
          "output_type": "execute_result",
          "data": {
            "text/plain": [
              "-3*h**5*f^4(xi)/80"
            ],
            "text/latex": "$\\displaystyle - \\frac{3 h^{5} f^{4}{\\left(\\xi \\right)}}{80}$"
          },
          "metadata": {},
          "execution_count": 45
        }
      ]
    },
    {
      "cell_type": "code",
      "source": [],
      "metadata": {
        "id": "M3AwoZOxuEda"
      },
      "execution_count": null,
      "outputs": []
    }
  ]
}