{
  "nbformat": 4,
  "nbformat_minor": 0,
  "metadata": {
    "colab": {
      "provenance": [],
      "include_colab_link": true
    },
    "kernelspec": {
      "name": "python3",
      "display_name": "Python 3"
    },
    "language_info": {
      "name": "python"
    }
  },
  "cells": [
    {
      "cell_type": "markdown",
      "metadata": {
        "id": "view-in-github",
        "colab_type": "text"
      },
      "source": [
        "<a href=\"https://colab.research.google.com/github/JaiderSantos/metodos1_JaiderSantos_NicolasGomez/blob/main/Tarea3/Tarea_3.ipynb\" target=\"_parent\"><img src=\"https://colab.research.google.com/assets/colab-badge.svg\" alt=\"Open In Colab\"/></a>"
      ]
    },
    {
      "cell_type": "code",
      "execution_count": 1,
      "metadata": {
        "id": "H8L0oJ3I3xjJ"
      },
      "outputs": [],
      "source": [
        "import numpy as np\n",
        "import matplotlib.pyplot as plt\n",
        "import sympy as sp"
      ]
    },
    {
      "cell_type": "code",
      "source": [
        "x = sp.Symbol('x')\n",
        "x"
      ],
      "metadata": {
        "colab": {
          "base_uri": "https://localhost:8080/",
          "height": 39
        },
        "id": "Cf4Ge4OAAbr2",
        "outputId": "d0a2a2e6-4696-4ac0-d98b-14ee39b9a57c"
      },
      "execution_count": 2,
      "outputs": [
        {
          "output_type": "execute_result",
          "data": {
            "text/plain": [
              "x"
            ],
            "text/latex": "$\\displaystyle x$"
          },
          "metadata": {},
          "execution_count": 2
        }
      ]
    },
    {
      "cell_type": "code",
      "source": [
        "#derivada\n",
        "def dx(f,x):\n",
        "  h = 1e-6\n",
        "  return (f(x+h)-f(x-h))/(2*h)"
      ],
      "metadata": {
        "id": "1vcH5ftc4cOX"
      },
      "execution_count": 3,
      "outputs": []
    },
    {
      "cell_type": "code",
      "source": [
        "#método de trapecio\n",
        "def trapezoid(f,a,b,n):\n",
        "  h= (b-a)/n\n",
        "  integral = 0\n",
        "  for i in range(1,n):\n",
        "    integral += f(a+i*h)\n",
        "  return h*(0.5*(f(a)+f(b))+integral)\n"
      ],
      "metadata": {
        "id": "CVUaB9NB4bpI"
      },
      "execution_count": 4,
      "outputs": []
    },
    {
      "cell_type": "code",
      "source": [
        "#metodo de  simpson 1/3\n",
        "def simpson13(f,a,b,n):\n",
        "  h = (b-a)/n\n",
        "  integral = 0\n",
        "  for i in range(1,n):\n",
        "    if i%2 == 0:\n",
        "      integral += 2*f(a+i*h)\n",
        "    else:\n",
        "      integral += 4*f(a+i*h)\n",
        "  return h/3*(f(a)+f(b)+integral)"
      ],
      "metadata": {
        "id": "B519ulH-eUdU"
      },
      "execution_count": 5,
      "outputs": []
    },
    {
      "cell_type": "markdown",
      "source": [
        "# Problema 5"
      ],
      "metadata": {
        "id": "JcanCVVUBDqW"
      }
    },
    {
      "cell_type": "code",
      "source": [
        "def f(x):\n",
        "  return np.exp(-x**2)\n"
      ],
      "metadata": {
        "id": "nak__M6w-tzo"
      },
      "execution_count": 6,
      "outputs": []
    },
    {
      "cell_type": "code",
      "source": [
        "Y_primitiva = trapezoid(f,0,1,100000)\n",
        "print(Y_primitiva)"
      ],
      "metadata": {
        "colab": {
          "base_uri": "https://localhost:8080/"
        },
        "id": "Cjp-sZxm-zaD",
        "outputId": "c1971eed-0a90-4350-cef4-c5799200a162"
      },
      "execution_count": 7,
      "outputs": [
        {
          "output_type": "stream",
          "name": "stdout",
          "text": [
            "0.7468241328062873\n"
          ]
        }
      ]
    },
    {
      "cell_type": "markdown",
      "source": [
        "# problema 6"
      ],
      "metadata": {
        "id": "82bS1lm_dNLn"
      }
    },
    {
      "cell_type": "code",
      "source": [
        "def f(x):\n",
        "  return (np.sqrt((0.01**2) - x**2))/(0.5+x)"
      ],
      "metadata": {
        "id": "vL9Ku_EAdN_W"
      },
      "execution_count": 8,
      "outputs": []
    },
    {
      "cell_type": "code",
      "source": [
        "integral_trap = trapezoid(f,-0.01,0.01,1000000)\n",
        "integral_simp = simpson13(f,-0.01,0.01,100000)\n",
        "error_estimado = np.abs((integral_simp-integral_trap)/integral_simp)*100\n",
        "print(integral_trap,integral_simp,error_estimado)\n",
        "#el error estimado de la integral de la función es 1.201993729240996e-06%"
      ],
      "metadata": {
        "id": "a83m7k9Y-8pr",
        "colab": {
          "base_uri": "https://localhost:8080/"
        },
        "outputId": "cd3432b4-6dad-4bed-b528-942887f87aa5"
      },
      "execution_count": 9,
      "outputs": [
        {
          "output_type": "stream",
          "name": "stdout",
          "text": [
            "0.0003141906872375271 0.00031419068346097477 1.201993729240996e-06\n"
          ]
        }
      ]
    },
    {
      "cell_type": "markdown",
      "source": [
        "# problema 7\n"
      ],
      "metadata": {
        "id": "hiWWZDVA5RhD"
      }
    },
    {
      "cell_type": "code",
      "source": [
        "#generar la grilla xy\n",
        "X = np.linspace(-1,1,1001)\n",
        "print(X)\n",
        "Y = np.linspace(-1,1,1001)\n",
        "\n"
      ],
      "metadata": {
        "id": "dRZ71nV5uI1k",
        "colab": {
          "base_uri": "https://localhost:8080/"
        },
        "outputId": "f4a36a72-76aa-45bf-edf9-39ae911f3517"
      },
      "execution_count": 53,
      "outputs": [
        {
          "output_type": "stream",
          "name": "stdout",
          "text": [
            "[-1.    -0.998 -0.996 ...  0.996  0.998  1.   ]\n"
          ]
        }
      ]
    },
    {
      "cell_type": "code",
      "source": [
        "#Funcion altura\n",
        "\n",
        "def z(x,y,R):\n",
        "  return np.sqrt(R**2-(x**2+y**2))\n",
        "\n",
        "#Funcion altura promedio por cuadro de grilla\n",
        "\n",
        "def altura_prom_z(x, y, R, n=1000):\n",
        "    delta_vol = ((2*R)/n)**2  # Área de cada cuadrado pequeño\n",
        "    volumen_total = 0\n",
        "\n",
        "\n",
        "    for i in range(n):\n",
        "        for j in range(n):\n",
        "            # Calcular la altura en los 4 vértices del cuadrado pequeño\n",
        "            if x[i]**2 + y[j]**2 <= R**2:\n",
        "                f1 = z(x[i], y[j], R)\n",
        "            else:\n",
        "                f1 = 0\n",
        "\n",
        "            if x[i+1]**2 + y[j]**2 <= R**2:\n",
        "                f2 = z(x[i+1], y[j], R)\n",
        "            else:\n",
        "                f2 = 0\n",
        "\n",
        "            if x[i]**2 + y[j+1]**2 <= R**2:\n",
        "                f3 = z(x[i], y[j+1], R)\n",
        "            else:\n",
        "                f3 = 0\n",
        "\n",
        "            if x[i+1]**2 + y[j+1]**2 <= R**2:\n",
        "                f4 = z(x[i+1], y[j+1], R)\n",
        "            else:\n",
        "                f4 = 0\n",
        "\n",
        "            # Promedio de los 4 vértices y añadir al volumen total\n",
        "            promedio = (f1 + f2 + f3 + f4) / 4\n",
        "            volumen_total += promedio * delta_vol\n",
        "\n",
        "    return volumen_total\n",
        ""
      ],
      "metadata": {
        "id": "BSe80w8n91Ae"
      },
      "execution_count": 54,
      "outputs": []
    },
    {
      "cell_type": "code",
      "source": [
        "altura_funcion = altura_prom_z(X,Y,1)\n",
        "altura_funcion"
      ],
      "metadata": {
        "colab": {
          "base_uri": "https://localhost:8080/"
        },
        "id": "iA_hIIVABROf",
        "outputId": "7fcd049b-0b60-496c-f027-a8b5ee2fdf8a"
      },
      "execution_count": 55,
      "outputs": [
        {
          "output_type": "execute_result",
          "data": {
            "text/plain": [
              "2.0943883788630453"
            ]
          },
          "metadata": {},
          "execution_count": 55
        }
      ]
    },
    {
      "cell_type": "code",
      "source": [],
      "metadata": {
        "id": "5WVqx6Kc--qb"
      },
      "execution_count": null,
      "outputs": []
    }
  ]
}