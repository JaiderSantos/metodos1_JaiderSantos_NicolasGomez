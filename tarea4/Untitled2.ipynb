{
  "nbformat": 4,
  "nbformat_minor": 0,
  "metadata": {
    "colab": {
      "provenance": [],
      "authorship_tag": "ABX9TyODGlzgBdU1U01YRq3xD9N0",
      "include_colab_link": true
    },
    "kernelspec": {
      "name": "python3",
      "display_name": "Python 3"
    },
    "language_info": {
      "name": "python"
    }
  },
  "cells": [
    {
      "cell_type": "markdown",
      "metadata": {
        "id": "view-in-github",
        "colab_type": "text"
      },
      "source": [
        "<a href=\"https://colab.research.google.com/github/JaiderSantos/metodos1_JaiderSantos_NicolasGomez/blob/main/tarea4/Untitled2.ipynb\" target=\"_parent\"><img src=\"https://colab.research.google.com/assets/colab-badge.svg\" alt=\"Open In Colab\"/></a>"
      ]
    },
    {
      "cell_type": "markdown",
      "source": [
        "# Parte 2 Tarea 4 Algebra lineal"
      ],
      "metadata": {
        "id": "SwYYAXuCNqn3"
      }
    },
    {
      "cell_type": "markdown",
      "source": [
        "\n",
        "\n",
        "> Punto 8\n",
        "\n"
      ],
      "metadata": {
        "id": "VxHWoCQxVw8j"
      }
    },
    {
      "cell_type": "code",
      "source": [
        "A = np.array([[4, -2, 1],\n",
        "              [20, -7, 12],\n",
        "              [-8, 13, 17]], dtype=float)\n",
        "\n",
        "# Inicializamos L y U\n",
        "n = A.shape[0]\n",
        "L = np.eye(n)\n",
        "U = A.copy()\n",
        "\n",
        "# Realizamos la descomposición LU\n",
        "for i in range(n):\n",
        "    for j in range(i+1, n):\n",
        "        # Calculamos el multiplicador\n",
        "        l_ij = U[j, i] / U[i, i]\n",
        "        L[j, i] = l_ij\n",
        "\n",
        "        # Actualizamos la fila j de U\n",
        "        U[j, :] = U[j, :] - l_ij * U[i, :]\n",
        "\n",
        "# Mostramos los resultados\n",
        "print(\"Matriz L:\")\n",
        "print(L)\n",
        "print(\"\\nMatriz U:\")\n",
        "print(U)\n",
        "\n",
        "A_reconstructed = np.dot(L, U)\n",
        "print(\"\\nMatriz A reconstruida:\")\n",
        "print(A_reconstructed)"
      ],
      "metadata": {
        "colab": {
          "base_uri": "https://localhost:8080/"
        },
        "id": "kdMGodFpV7ok",
        "outputId": "a196be88-6de1-4d28-a73d-d940ba7cae23"
      },
      "execution_count": 9,
      "outputs": [
        {
          "output_type": "stream",
          "name": "stdout",
          "text": [
            "Matriz L:\n",
            "[[ 1.  0.  0.]\n",
            " [ 5.  1.  0.]\n",
            " [-2.  3.  1.]]\n",
            "\n",
            "Matriz U:\n",
            "[[ 4. -2.  1.]\n",
            " [ 0.  3.  7.]\n",
            " [ 0.  0. -2.]]\n",
            "\n",
            "Matriz A reconstruida:\n",
            "[[ 4. -2.  1.]\n",
            " [20. -7. 12.]\n",
            " [-8. 13. 17.]]\n"
          ]
        }
      ]
    },
    {
      "cell_type": "markdown",
      "source": [
        "Punto 10"
      ],
      "metadata": {
        "id": "Pf-uWYw8Wq9T"
      }
    },
    {
      "cell_type": "code",
      "source": [
        "import numpy as np\n",
        "\n",
        "def jacobi_method(A, max_iterations=100, tol=1e-10):\n",
        "    n = A.shape[0]\n",
        "    # Inicializar los vectores propios y la matriz diagonal\n",
        "    V = np.eye(n)  # Matriz de vectores propios\n",
        "    D = np.copy(A)  # Matriz diagonalizada\n",
        "\n",
        "    for _ in range(max_iterations):\n",
        "        # Encontrar el elemento más grande fuera de la diagonal\n",
        "        off_diag = np.abs(D - np.diag(np.diag(D)))\n",
        "        i, j = np.unravel_index(np.argmax(off_diag), off_diag.shape)\n",
        "\n",
        "        if off_diag[i, j] < tol:\n",
        "            break\n",
        "\n",
        "        # Calcular el ángulo theta\n",
        "        if D[i, i] == D[j, j]:\n",
        "            theta = np.pi / 4  # 45 grados si son iguales\n",
        "        else:\n",
        "            theta = 0.5 * np.arctan2(2 * D[i, j], D[j, j] - D[i, i])\n",
        "\n",
        "        # Crear la matriz de rotación\n",
        "        c = np.cos(theta)\n",
        "        s = np.sin(theta)\n",
        "\n",
        "        # Actualizar la matriz D y la matriz de vectores propios V\n",
        "        R = np.eye(n)\n",
        "        R[i, i] = c\n",
        "        R[j, j] = c\n",
        "        R[i, j] = -s\n",
        "        R[j, i] = s\n",
        "\n",
        "        D = R.T @ D @ R\n",
        "        V = V @ R\n",
        "\n",
        "    return np.diagonal(D), V  # Retornar valores propios y vectores propios\n",
        "\n",
        "# Definimos la matriz A\n",
        "A = np.array([[4, 1, 1],\n",
        "              [1, 3, 2],\n",
        "              [1, 2, 5]], dtype=float)\n",
        "\n",
        "# Usamos el método de Jacobi\n",
        "eigenvalues_jacobi, eigenvectors_jacobi = jacobi_method(A)\n",
        "\n",
        "print(\"Valores propios (Jacobi):\", eigenvalues_jacobi)\n",
        "print(\"Vectores propios (Jacobi):\")\n",
        "print(eigenvectors_jacobi)\n",
        "\n",
        "eigenvalues_np, eigenvectors_np = np.linalg.eig(A)\n",
        "\n",
        "print(\"\\nValores propios (NumPy):\", eigenvalues_np)\n",
        "print(\"Vectores propios (NumPy):\")\n",
        "print(eigenvectors_np)"
      ],
      "metadata": {
        "colab": {
          "base_uri": "https://localhost:8080/"
        },
        "id": "t8YUCNJxWwB1",
        "outputId": "9b4f1fbb-5d2d-4a8b-a6bb-dd4c0ac4b78a"
      },
      "execution_count": 2,
      "outputs": [
        {
          "output_type": "stream",
          "name": "stdout",
          "text": [
            "Valores propios (Jacobi): [3.3962362 6.2966035 2.3071603]\n",
            "Vectores propios (Jacobi):\n",
            "[[-0.89537629  0.34752195 -0.27844171]\n",
            " [ 0.09607536  0.76130557  0.6412358 ]\n",
            " [ 0.43482275  0.54739595 -0.71504325]]\n",
            "\n",
            "Valores propios (NumPy): [6.89510652 3.39729507 1.70759841]\n",
            "Vectores propios (NumPy):\n",
            "[[ 0.43170413  0.88573564  0.17059871]\n",
            " [ 0.49725362 -0.07589338 -0.86427949]\n",
            " [ 0.75257583 -0.45794385  0.47319874]]\n"
          ]
        }
      ]
    },
    {
      "cell_type": "markdown",
      "source": [
        "Punto 13"
      ],
      "metadata": {
        "id": "7HIjYaOWN3ii"
      }
    },
    {
      "source": [
        "import numpy as np\n",
        "\n",
        "def jacobiano_central(func, x, h=1e-5):\n",
        "    n = len(x)\n",
        "    m = len(func(x))\n",
        "    J = np.zeros((m, n))\n",
        "\n",
        "    for i in range(n):\n",
        "        # Crear un vector perturbado\n",
        "        x_plus = np.array(x, dtype=float)\n",
        "        x_minus = np.array(x, dtype=float)\n",
        "\n",
        "        x_plus[i] += h\n",
        "        x_minus[i] -= h\n",
        "\n",
        "        for j in range(m):\n",
        "            # The problem was in this line. func returns an array,\n",
        "            #  and you need to select the j-th element of that array\n",
        "            #  using func(arguments)[j]  for each term in the expression.\n",
        "            J[j, i] = (-func(x_plus)[j] + 8 * func(x_plus + h * np.eye(n)[i])[j] \\\n",
        "                       - 8 * func(x_minus - h * np.eye(n)[i])[j] + func(x_minus)[j]) / (12 * h)\n",
        "\n",
        "    return J\n",
        "\n",
        "\n",
        "def f(x):\n",
        "    return np.array([x[0]**2 + x[1], x[1]**2 + x[2], x[0] + x[2]**2])\n",
        "\n",
        "x_point = np.array([0.5, 0.5, 0.5])\n",
        "h = 0.01\n",
        "jacobian_estimation = jacobiano_central(f, x_point, h)\n",
        "print(jacobian_estimation)\n",
        "\n",
        "\n",
        "\n",
        "def jacobiano_central_Oh2(func, x, h=1e-5):\n",
        "    n = len(x)\n",
        "    m = len(func(x))\n",
        "    J = np.zeros((m, n))\n",
        "\n",
        "    for i in range(n):\n",
        "        # Crear un vector perturbado\n",
        "        x_plus = np.array(x, dtype=float)\n",
        "        x_minus = np.array(x, dtype=float)\n",
        "\n",
        "        x_plus[i] += h\n",
        "        x_minus[i] -= h\n",
        "\n",
        "        for j in range(m):\n",
        "            J[j, i] = (func(x_plus)[j] - func(x_minus)[j]) / (2 * h)\n",
        "\n",
        "    return J\n",
        "jacobian_Oh2_estimation = jacobiano_central_Oh2(f, x_point, h)\n",
        "print(jacobian_Oh2_estimation)\n",
        "\n",
        "\n",
        "h_values = [0.01, 0.001, 0.0001]\n",
        "for h in h_values:\n",
        "    J_Oh4 = jacobiano_central(f, x_point, h)\n",
        "    J_Oh2 = jacobiano_central_Oh2(f, x_point, h)\n",
        "    error = np.linalg.norm(J_Oh4 - J_Oh2)\n",
        "    print(f\"h = {h}, error = {error}\")"
      ],
      "cell_type": "code",
      "metadata": {
        "colab": {
          "base_uri": "https://localhost:8080/"
        },
        "id": "gbHmNzvJUSxu",
        "outputId": "7f5adaf4-09a3-4bb6-d4d9-b14e8a19b1bf"
      },
      "execution_count": 8,
      "outputs": [
        {
          "output_type": "stream",
          "name": "stdout",
          "text": [
            "[[2.5 2.5 0. ]\n",
            " [0.  2.5 2.5]\n",
            " [2.5 0.  2.5]]\n",
            "[[1. 1. 0.]\n",
            " [0. 1. 1.]\n",
            " [1. 0. 1.]]\n",
            "h = 0.01, error = 3.6742346141747775\n",
            "h = 0.001, error = 3.674234614174781\n",
            "h = 0.0001, error = 3.6742346141748152\n"
          ]
        }
      ]
    }
  ]
}