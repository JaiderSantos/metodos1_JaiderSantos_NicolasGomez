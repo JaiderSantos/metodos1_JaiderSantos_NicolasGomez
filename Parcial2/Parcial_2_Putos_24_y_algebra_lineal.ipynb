{
  "nbformat": 4,
  "nbformat_minor": 0,
  "metadata": {
    "colab": {
      "provenance": [],
      "authorship_tag": "ABX9TyPrjs1VtsL/7CM6kIq7JYDl",
      "include_colab_link": true
    },
    "kernelspec": {
      "name": "python3",
      "display_name": "Python 3"
    },
    "language_info": {
      "name": "python"
    }
  },
  "cells": [
    {
      "cell_type": "markdown",
      "metadata": {
        "id": "view-in-github",
        "colab_type": "text"
      },
      "source": [
        "<a href=\"https://colab.research.google.com/github/JaiderSantos/metodos1_JaiderSantos_NicolasGomez/blob/main/Parcial2/Parcial_2_Putos_24_y_algebra_lineal.ipynb\" target=\"_parent\"><img src=\"https://colab.research.google.com/assets/colab-badge.svg\" alt=\"Open In Colab\"/></a>"
      ]
    },
    {
      "cell_type": "code",
      "source": [
        "import sympy as sym\n",
        "import numpy as np\n",
        "from scipy import integrate\n",
        "import math as math\n",
        "import matplotlib.pyplot as plt\n",
        "from scipy.special import roots_legendre"
      ],
      "metadata": {
        "id": "NU5nl6_14Eed"
      },
      "execution_count": 2,
      "outputs": []
    },
    {
      "cell_type": "markdown",
      "source": [
        "Integración 24\n"
      ],
      "metadata": {
        "id": "bpZCxP5KtaWO"
      }
    },
    {
      "cell_type": "code",
      "source": [
        "n=50\n",
        "Roots1, Weights1 = np.polynomial.legendre.leggauss(n)\n",
        "fun= lambda x : 1/(x**4+1)\n",
        "t1 = 0.5*(2)\n",
        "integral=t1*np.sum(Weights1*fun(0.5*(Roots1*2)))\n",
        "integral\n",
        "\n",
        "\n",
        "\n",
        "\n",
        "\n",
        "\n"
      ],
      "metadata": {
        "colab": {
          "base_uri": "https://localhost:8080/"
        },
        "id": "NeHkwVchzktQ",
        "outputId": "2fa273d4-0488-4512-faa3-0ab67701e29e"
      },
      "execution_count": 3,
      "outputs": [
        {
          "output_type": "execute_result",
          "data": {
            "text/plain": [
              "1.7339459746798194"
            ]
          },
          "metadata": {},
          "execution_count": 3
        }
      ]
    },
    {
      "cell_type": "markdown",
      "source": [
        "Algebra Lineal"
      ],
      "metadata": {
        "id": "fClcOkhRAeD7"
      }
    },
    {
      "cell_type": "code",
      "execution_count": 8,
      "metadata": {
        "id": "nvMqIoN-AXXc",
        "colab": {
          "base_uri": "https://localhost:8080/"
        },
        "outputId": "0cdac490-e959-4711-f233-28a8627dfed3"
      },
      "outputs": [
        {
          "output_type": "stream",
          "name": "stdout",
          "text": [
            "10.68\n"
          ]
        },
        {
          "output_type": "execute_result",
          "data": {
            "text/plain": [
              "3255000.0"
            ]
          },
          "metadata": {},
          "execution_count": 8
        }
      ],
      "source": [
        "#C = np.array([8.51,10.68,12.24,13.66,15.37,17.15,19.66,24.69])\n",
        "wBolsa=np.array([0.1,0.2,0.3,0.4,0.5,0.6,0.7,0.8,0.9,1.0])\n",
        "C = np.array([8.51,10.68])\n",
        "Ca= 1000000\n",
        "w= np.array([0.5,0.5])\n",
        "print(C[1])\n",
        "\n",
        "def func_de_retorno(C,w,Ca):\n",
        "  Pro_elem = w * C\n",
        "  menos1=Pro_elem-1\n",
        "  RTA= Ca * np.min(menos1)\n",
        "  return RTA\n",
        "func_de_retorno(C,w,Ca)\n",
        "\n",
        "\n",
        "\n",
        "\n",
        "\n",
        "\n",
        "\n",
        "\n",
        "\n",
        "\n",
        "\n",
        "\n",
        "\n",
        "\n",
        "\n",
        "\n",
        "\n",
        "\n",
        "\n"
      ]
    },
    {
      "cell_type": "code",
      "source": [
        "#robots\n",
        "\n",
        "class Robot:\n",
        "\n",
        "  def __init__(self, f, Id):\n",
        "\n",
        "    self.Id = Id\n",
        "    self.f = f\n",
        "\n",
        "    self.r = np.random.uniform(1.0,100.0)\n",
        "\n",
        "r = Robot(func_de_retorno,0)\n",
        "\n",
        "def GetRobots(N):\n",
        "\n",
        "  Robots = []\n",
        "\n",
        "  for i in range(N):\n",
        "    r = Robot(func_de_retorno,i)\n",
        "    Robots.append(r)\n",
        "\n",
        "  return Robots\n",
        "\n",
        "NumR=GetRobots(len(C))\n",
        "\n",
        "\n",
        "\n",
        "\n",
        "\n",
        "for i in range(len(NumR)):\n",
        "  print(NumR[i].r)\n",
        "\n",
        "\n",
        "\n",
        "\n",
        "def Genetic(Robots, epochs=30):\n",
        "\n",
        "  N = int(0.9*len(Robots))\n",
        "\n",
        "  for e in range(epochs):\n",
        "\n",
        "     # Plotting stuff\n",
        "    clear_output(wait=True)\n",
        "    _,ax = Plotter(e)\n",
        "\n",
        "    # Mutar el genoma\n",
        "    for i, p in enumerate(Robots):\n",
        "      p.Mutate()\n",
        "      p.SetFitness()\n",
        "\n",
        "    # Queremos medir cual es más apto\n",
        "    score = [ (p.Fitness, p) for p in Robots ]\n",
        "    # Como ordenamos\n",
        "    score = sorted(score, key=lambda x: x[0], reverse=False) # De menor a mayor\n",
        "   # print(score)\n",
        "\n",
        "    Temp = [r[1] for i, r in enumerate(score) if i < N]\n",
        "\n",
        "     # Reintroducción aleatoria de algunos individuos\n",
        "    for i in range(int(0.1 * len(Robots))):  # Un 10% de los robots se reintroducen aleatoriamente\n",
        "        Robots[i] = Robot(FuncionMinimizar, i)\n",
        "\n",
        "    for i,r in enumerate(Robots):\n",
        "      j = i%N\n",
        "      Robots[i] = copy.deepcopy(Temp[j])\n",
        "\n",
        "\n",
        "    # Pintar los robots\n",
        "    for i, p in enumerate(Robots):\n",
        "      #print(i,p)\n",
        "      ax.scatter(p.GetR(),p.f(p.GetR()),marker='o')\n",
        "\n",
        "    t = np.linspace(-5,5,100)\n",
        "    ax.plot(t,FuncionMinimizar(t),color='b')\n",
        "\n",
        "    plt.pause(0.01)\n",
        "    plt.show()\n",
        "\n",
        "\n",
        "\n",
        "\n",
        "\n",
        "\n"
      ],
      "metadata": {
        "colab": {
          "base_uri": "https://localhost:8080/"
        },
        "id": "jIkZ8_64wM52",
        "outputId": "74bac33a-9e7f-4fd2-bd1a-de5aa0ea6354"
      },
      "execution_count": 38,
      "outputs": [
        {
          "output_type": "stream",
          "name": "stdout",
          "text": [
            "[<__main__.Robot object at 0x78eaf133cfa0>, <__main__.Robot object at 0x78eaf133cd90>]\n",
            "71.43070738324768\n",
            "65.9907626515401\n"
          ]
        }
      ]
    },
    {
      "cell_type": "code",
      "source": [
        "#chat\n",
        "# Vector de ejemplo\n",
        "v = np.array([8.51, 10.68, 12.24, 13.66, 15.37, 17.15, 19.66, 24.69])\n",
        "\n",
        "# Calcular la norma del vector\n",
        "norma_v = np.linalg.norm(v)\n",
        "\n",
        "# Normalizar el vector\n",
        "v_normalizado = v / norma_v\n",
        "\n",
        "def R(w, C, Ca=1000000):\n",
        "    # Calcular el producto Hadamard\n",
        "    product = w * C\n",
        "\n",
        "    # Restar 1 al producto\n",
        "    product_minus_1 = product - 1\n",
        "\n",
        "    # Calcular R(w)\n",
        "    result = Ca * np.min(product_minus_1)\n",
        "\n",
        "    return result\n",
        "\n",
        "# Ejemplo de uso\n",
        "C = np.array([8.51, 10.68])\n",
        "w = np.array([0.5, 0.5])\n",
        "\n",
        "resultado = R(w, C)\n",
        "print(\"R(w):\", resultado)\n",
        "\n",
        "\n",
        "def R(w, C, Ca=1000000):\n",
        "    # Calcular el producto Hadamard\n",
        "    product = w * C\n",
        "\n",
        "    # Restar 1 al producto\n",
        "    product_minus_1 = product - 1\n",
        "\n",
        "    # Calcular R(w)\n",
        "    result = Ca * np.min(product_minus_1)\n",
        "\n",
        "    return result\n",
        "\n",
        "# Ejemplo de uso con más elementos\n",
        "C = np.array([8.51, 10.68, 12.24, 13.66, 15.37, 17.15, 19.66, 24.69])\n",
        "w = np.array([0.5, 0.6, 0.7, 0.8, 0.9, 1.0, 1.1, 1.2])  # Vector w con más elementos\n",
        "\n",
        "resultado = R(w, C)\n",
        "print(\"R(w):\", resultado)\n",
        "\n",
        "\n",
        "\n",
        "pesos_originales = np.array([50, 30, 15, 5])  # Suma: 100\n",
        "\n",
        "# Normalizar los pesos para que sumen 1\n",
        "pesos_normalizados = pesos_originales / np.sum(pesos_originales)\n",
        "\n",
        "# Realizar una elección aleatoria\n",
        "eleccion_normalizada = np.random.choice(opciones, p=pesos_normalizados)\n",
        "print(\"Elección aleatoria con pesos normalizados:\", eleccion_normalizada)"
      ],
      "metadata": {
        "colab": {
          "base_uri": "https://localhost:8080/"
        },
        "id": "tjUUnpyuRXVQ",
        "outputId": "a3863b4a-2680-4901-80af-087206faaf38"
      },
      "execution_count": 21,
      "outputs": [
        {
          "output_type": "stream",
          "name": "stdout",
          "text": [
            "R(w): 3255000.0\n",
            "R(w): 3255000.0\n"
          ]
        }
      ]
    },
    {
      "cell_type": "code",
      "source": [
        "import numpy as np\n",
        "\n",
        "# Opciones con sus pesos\n",
        "opciones = ['A', 'B', 'C', 'D']\n",
        "pesos = np.array([0.5, 0.3, 0.15, 0.05])  # Pesos que suman 1\n",
        "\n",
        "# Verificar que la suma de los pesos no exceda 1\n",
        "if np.sum(pesos) > 1:\n",
        "    raise ValueError(\"La suma de los pesos no puede ser mayor que 1.\")\n",
        "\n",
        "# Realizar una elección aleatoria\n",
        "eleccion = np.random.choice(opciones, p=pesos)\n",
        "print(\"Elección aleatoria:\", eleccion)\n",
        "pesos_originales = np.array([50, 30, 15, 5])  # Suma: 100\n",
        "\n",
        "# Normalizar los pesos para que sumen 1\n",
        "pesos_normalizados = pesos_originales / np.sum(pesos_originales)\n",
        "\n",
        "# Realizar una elección aleatoria\n",
        "eleccion_normalizada = np.random.choice(opciones, p=pesos_normalizados)\n",
        "print(\"Elección aleatoria con pesos normalizados:\", eleccion_normalizada)"
      ],
      "metadata": {
        "colab": {
          "base_uri": "https://localhost:8080/"
        },
        "id": "3788NciXNdGW",
        "outputId": "8bcb1ab1-b515-4de3-cde1-072b96ce39cf"
      },
      "execution_count": 34,
      "outputs": [
        {
          "output_type": "stream",
          "name": "stdout",
          "text": [
            "Elección aleatoria: A\n",
            "Elección aleatoria con pesos normalizados: A\n"
          ]
        }
      ]
    },
    {
      "cell_type": "code",
      "source": [
        "class Inversion:\n",
        "    def __init__(self, capital):\n",
        "        self.capital = capital\n",
        "        self.activos = {}\n",
        "\n",
        "    def agregar_activo(self, nombre, proporcion):\n",
        "        if nombre in self.activos:\n",
        "            raise ValueError(\"El activo ya está registrado.\")\n",
        "        if proporcion < 0:\n",
        "            raise ValueError(\"La proporción debe ser positiva.\")\n",
        "        self.activos[nombre] = proporcion\n",
        "\n",
        "    def calcular_asignaciones(self):\n",
        "        total_proporciones = sum(self.activos.values())\n",
        "        if total_proporciones == 0:\n",
        "            raise ValueError(\"La suma de las proporciones no puede ser cero.\")\n",
        "\n",
        "        # Calcular la asignación y el peso porcentual para cada activo\n",
        "        asignaciones = {}\n",
        "        pesos = {}\n",
        "        for nombre, proporcion in self.activos.items():\n",
        "            peso_porcentual = (proporcion / total_proporciones) * 100\n",
        "            asignaciones[nombre] = (proporcion / total_proporciones) * self.capital\n",
        "            pesos[nombre] = peso_porcentual\n",
        "\n",
        "        return asignaciones, pesos\n",
        "\n",
        "# Ejemplo de uso\n",
        "capital_inicial = 10000  # Capital total\n",
        "inversion = Inversion(capital_inicial)\n",
        "\n",
        "# Agregar activos y sus proporciones\n",
        "inversion.agregar_activo(\"Acciones\", 0.5)  # 50%\n",
        "inversion.agregar_activo(\"Bonos\", 0.3)     # 30%\n",
        "inversion.agregar_activo(\"Bienes Raíces\", 0.2)  # 20%\n",
        "\n",
        "# Calcular asignaciones y pesos\n",
        "asignaciones, pesos = inversion.calcular_asignaciones()\n",
        "print(\"Asignaciones de inversión:\", asignaciones)\n",
        "print(\"Pesos de inversión (%):\", pesos)"
      ],
      "metadata": {
        "colab": {
          "base_uri": "https://localhost:8080/"
        },
        "id": "mW6s8Etu6jTt",
        "outputId": "d0037c01-9955-483c-8f42-2c215c956897"
      },
      "execution_count": 37,
      "outputs": [
        {
          "output_type": "stream",
          "name": "stdout",
          "text": [
            "Asignaciones de inversión: {'Acciones': 5000.0, 'Bonos': 3000.0, 'Bienes Raíces': 2000.0}\n"
          ]
        }
      ]
    }
  ]
}