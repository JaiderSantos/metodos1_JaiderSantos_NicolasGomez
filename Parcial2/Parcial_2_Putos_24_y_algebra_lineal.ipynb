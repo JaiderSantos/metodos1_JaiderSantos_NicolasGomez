{
  "nbformat": 4,
  "nbformat_minor": 0,
  "metadata": {
    "colab": {
      "provenance": [],
      "authorship_tag": "ABX9TyNJb41uUTrm5rYQsdHKZe2+",
      "include_colab_link": true
    },
    "kernelspec": {
      "name": "python3",
      "display_name": "Python 3"
    },
    "language_info": {
      "name": "python"
    }
  },
  "cells": [
    {
      "cell_type": "markdown",
      "metadata": {
        "id": "view-in-github",
        "colab_type": "text"
      },
      "source": [
        "<a href=\"https://colab.research.google.com/github/JaiderSantos/metodos1_JaiderSantos_NicolasGomez/blob/main/Parcial2/Parcial_2_Putos_24_y_algebra_lineal.ipynb\" target=\"_parent\"><img src=\"https://colab.research.google.com/assets/colab-badge.svg\" alt=\"Open In Colab\"/></a>"
      ]
    },
    {
      "cell_type": "markdown",
      "source": [
        "Integración 24\n",
        "Roots1, Weights1 = np.polynomial.legendre.leggauss(n)\n",
        "fun= lambda x : 1/(x**4+1)\n",
        "t1 = 0.5*(2)\n",
        "integral=t1*np.sum(Weights1*fun(0.5*(Roots1*2)))\n",
        "integral\n"
      ],
      "metadata": {
        "id": "bpZCxP5KtaWO"
      }
    },
    {
      "cell_type": "markdown",
      "source": [
        "Algebra Lineal"
      ],
      "metadata": {
        "id": "fClcOkhRAeD7"
      }
    },
    {
      "cell_type": "code",
      "execution_count": null,
      "metadata": {
        "id": "nvMqIoN-AXXc"
      },
      "outputs": [],
      "source": []
    }
  ]
}