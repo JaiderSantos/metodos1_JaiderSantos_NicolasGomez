{
  "nbformat": 4,
  "nbformat_minor": 0,
  "metadata": {
    "colab": {
      "provenance": [],
      "authorship_tag": "ABX9TyPmKpqEjb+JeZw+h90gKqlb",
      "include_colab_link": true
    },
    "kernelspec": {
      "name": "python3",
      "display_name": "Python 3"
    },
    "language_info": {
      "name": "python"
    }
  },
  "cells": [
    {
      "cell_type": "markdown",
      "metadata": {
        "id": "view-in-github",
        "colab_type": "text"
      },
      "source": [
        "<a href=\"https://colab.research.google.com/github/JaiderSantos/metodos1_JaiderSantos_NicolasGomez/blob/main/Parcial2/Parcial_2_algebra_lineal.ipynb\" target=\"_parent\"><img src=\"https://colab.research.google.com/assets/colab-badge.svg\" alt=\"Open In Colab\"/></a>"
      ]
    },
    {
      "cell_type": "code",
      "source": [
        "import sympy as sym\n",
        "import numpy as np\n",
        "from scipy import integrate\n",
        "import math as math\n",
        "import matplotlib.pyplot as plt\n",
        "from scipy.special import roots_legendre\n",
        "import numpy as np\n",
        "import matplotlib.pyplot as plt\n",
        "from IPython.display import clear_output\n",
        "import time\n",
        "import copy"
      ],
      "metadata": {
        "id": "NU5nl6_14Eed"
      },
      "execution_count": null,
      "outputs": []
    },
    {
      "cell_type": "markdown",
      "source": [
        "Integración 24\n"
      ],
      "metadata": {
        "id": "bpZCxP5KtaWO"
      }
    },
    {
      "cell_type": "code",
      "source": [
        "n=50\n",
        "Roots1, Weights1 = np.polynomial.legendre.leggauss(n)\n",
        "fun= lambda x : 1/(x**4+1)\n",
        "t1 = 0.5*(2)\n",
        "integral=t1*np.sum(Weights1*fun(0.5*(Roots1*2)))\n",
        "integral\n",
        "\n",
        "\n",
        "\n",
        "\n",
        "\n",
        "\n"
      ],
      "metadata": {
        "colab": {
          "base_uri": "https://localhost:8080/"
        },
        "id": "NeHkwVchzktQ",
        "outputId": "2fa273d4-0488-4512-faa3-0ab67701e29e"
      },
      "execution_count": null,
      "outputs": [
        {
          "output_type": "execute_result",
          "data": {
            "text/plain": [
              "1.7339459746798194"
            ]
          },
          "metadata": {},
          "execution_count": 3
        }
      ]
    },
    {
      "cell_type": "markdown",
      "source": [
        "Algebra Lineal"
      ],
      "metadata": {
        "id": "fClcOkhRAeD7"
      }
    },
    {
      "cell_type": "code",
      "execution_count": null,
      "metadata": {
        "id": "nvMqIoN-AXXc",
        "colab": {
          "base_uri": "https://localhost:8080/",
          "height": 70
        },
        "outputId": "4c378e34-07ec-4a30-c368-50ae0b908f29"
      },
      "outputs": [
        {
          "output_type": "stream",
          "name": "stdout",
          "text": [
            "10.68\n",
            "[0.57556281 0.42443719]\n"
          ]
        },
        {
          "output_type": "execute_result",
          "data": {
            "text/plain": [
              "'fitness=[]\\n\\nfor i in range(len(NumR)):\\n  Value=\\n  fitness.append(NumR[i].f(C,wBolsa,Ca))\\n\\nprint(fitness)'"
            ],
            "application/vnd.google.colaboratory.intrinsic+json": {
              "type": "string"
            }
          },
          "metadata": {},
          "execution_count": 71
        }
      ],
      "source": [
        "\n",
        "#C = np.array([8.51,10.68,12.24,13.66,15.37,17.15,19.66,24.69])\n",
        "wBolsa=np.array([0.1,0.2,0.3,0.4,0.5,0.6,0.7,0.8,0.9,1.0])\n",
        "C = np.array([8.51,10.68])\n",
        "Ca= 1000000\n",
        "w= np.array([0.5,0.5])\n",
        "print(C[1])\n",
        "\n",
        "def func_de_retorno(C,w,Ca):\n",
        "  Pro_elem = w * C\n",
        "  menos1=Pro_elem-1\n",
        "  RTA= Ca * np.min(menos1)\n",
        "  return RTA\n",
        "func_de_retorno(C,w,Ca)\n",
        "\n",
        "\n",
        "\n",
        "class Robot:\n",
        "    def __init__(self, f, Id, T):\n",
        "        self.Id = Id\n",
        "        self.f = f\n",
        "        self.h = np.zeros(T)  # Array para almacenar los valores aleatorios\n",
        "\n",
        "        # Generar valores aleatorios\n",
        "        for i in range(T):\n",
        "            self.h[i] = np.random.uniform(1.0, 100.0)  # Asignar valor aleatorio al array\n",
        "\n",
        "        # Normalizar el array para que la suma sea 1\n",
        "        self.h /= np.sum(self.h)  # Dividir cada elemento por la suma total\n",
        "\n",
        "def GetRobots(N,tam):\n",
        "\n",
        "\n",
        "  Robots = []\n",
        "\n",
        "  for i in range(N):\n",
        "    r = Robot(func_de_retorno,i,tam)\n",
        "    Robots.append(r)\n",
        "\n",
        "  return Robots\n",
        "\n",
        "NumR=np.array(GetRobots(50,len(C)))\n",
        "\n",
        "#for i in range(len(NumR)):\n",
        "  #print(NumR[i].h)\n",
        "\n",
        "\n",
        "\n",
        "#tasa de exito\n",
        "\n",
        "\"\"\"fitness=[]\n",
        "\n",
        "for i in range(len(NumR)):\n",
        "  Value=\n",
        "  fitness.append(NumR[i].f(C,wBolsa,Ca))\n",
        "\n",
        "print(fitness)\"\"\"\n",
        "\n",
        "\n",
        "\n",
        "\n",
        "\n",
        "\n",
        "\n",
        "\n",
        "\n",
        "\n",
        "\n",
        "\n",
        "\n",
        "\n",
        "\n",
        "\n",
        "\n",
        "\n",
        "\n",
        "\n",
        "\n",
        "\n",
        "\n",
        "\n",
        "\n",
        "\n",
        "\n",
        "\n",
        "\n",
        "\n"
      ]
    },
    {
      "cell_type": "code",
      "source": [],
      "metadata": {
        "id": "jIkZ8_64wM52"
      },
      "execution_count": null,
      "outputs": []
    },
    {
      "cell_type": "code",
      "source": [
        "def R(w, C, Ca=1000000):\n",
        "    # Calcular el producto Hadamard\n",
        "    product = w * C\n",
        "\n",
        "    # Restar 1 al producto\n",
        "    product_minus_1 = product - 1\n",
        "\n",
        "    # Calcular R(w)\n",
        "    result = Ca * np.min(product_minus_1)\n",
        "\n",
        "    return result\n",
        "\n",
        "# Ejemplo de uso con más elementos\n",
        "C = np.array([8.51, 10.68, 12.24, 13.66, 15.37, 17.15, 19.66, 24.69])\n",
        "w = np.array([0.7, 0.3, 0.7, 0.8, 0.9, 1.0, 1.1, 1.2])  # Vector w con más elementos\n",
        "\n",
        "resultado = R(w, C)\n",
        "print(\"R(w):\", resultado)\n",
        "\n",
        "\n",
        "\n"
      ],
      "metadata": {
        "colab": {
          "base_uri": "https://localhost:8080/"
        },
        "id": "tjUUnpyuRXVQ",
        "outputId": "fe83d947-8538-4105-f2d0-9c421adee9e2"
      },
      "execution_count": null,
      "outputs": [
        {
          "output_type": "stream",
          "name": "stdout",
          "text": [
            "R(w): 2203999.9999999995\n"
          ]
        }
      ]
    },
    {
      "cell_type": "code",
      "source": [
        "  NumR=np.array(GetRobots(500,len(C)))\n",
        "\n",
        "  # Getter de clase: Me da la posicion del robot\n",
        "  def GetR(self):\n",
        "    return self.h\n",
        "\n",
        "  # Buscamos la posibilidad de mejorar (Mutar)\n",
        "  def Mutate(self):\n",
        "    # Cambiar el lugar donde estoy aleatoriamente\n",
        "    #self.r += np.random.uniform(-0.001,0.001)\n",
        "    self.r += np.random.normal(loc=0,scale=0.02)\n",
        "\n",
        "  def SetFitness(self):\n",
        "    h = 1e-2\n",
        "    derivada = (self.f(self.r+h) - self.f(self.r-h))/(2*h)\n",
        "    self.fitness = np.abs(derivada) + 0.1\n",
        "\n",
        "  @property\n",
        "  def Fitness(self):\n",
        "    return self.fitness\n",
        "\n",
        "  def __repr__(self):\n",
        "    return f\"Robot {self.Id}\"\n",
        "\n",
        "\n",
        "\n",
        "def Genetic(NumR, epochs=500):\n",
        "  N = int(0.9*len(NumR))\n",
        "\n",
        "  for e in range(epochs):\n",
        "\n",
        "     # Plotting stuff\n",
        "    clear_output(wait=True)\n",
        "    _,ax = Plotter(e)\n",
        "\n",
        "    # Mutar el genoma\n",
        "    for i, p in enumerate(NumR):\n",
        "      p.Mutate()\n",
        "      p.SetFitness()\n",
        "\n",
        "    # Queremos medir cual es más apto\n",
        "    score = [ (p.Fitness, p) for p in NumR ]\n",
        "    # Como ordenamos\n",
        "    score = sorted(score, key=lambda x: x[0], reverse=False) # De menor a mayor\n",
        "   # print(score)\n",
        "\n",
        "    Temp = [r[1] for i, r in enumerate(score) if i < N]\n",
        "\n",
        "     # Reintroducción aleatoria de algunos individuos\n",
        "    for i in range(int(0.1 * len(NumR))):  # Un 10% de los robots se reintroducen aleatoriamente\n",
        "        NumR[i] = NumR(func_de_retorno, i)\n",
        "\n",
        "    for i,r in enumerate(NumR):\n",
        "      j = i%N\n",
        "      NumR[i] = copy.deepcopy(Temp[j])\n",
        "\n",
        "\n",
        "\"\"\"    # Pintar los robots\n",
        "    for i, p in enumerate(NumR):\n",
        "      #print(i,p)\n",
        "      ax.scatter(p.GetR(),p.f(p.GetR()),marker='o')\n",
        "\n",
        "    t = np.linspace(-5,5,100)\n",
        "    ax.plot(t,func_de_retorno(),color='b')\n",
        "\n",
        "    plt.pause(0.01)\n",
        "    plt.show()\"\"\""
      ],
      "metadata": {
        "colab": {
          "base_uri": "https://localhost:8080/",
          "height": 106
        },
        "id": "3788NciXNdGW",
        "outputId": "4062561e-41c9-4b17-cf1f-fd08a2ad9c03"
      },
      "execution_count": null,
      "outputs": [
        {
          "output_type": "error",
          "ename": "IndentationError",
          "evalue": "expected an indented block after function definition on line 27 (<ipython-input-75-ad2940b5aff9>, line 29)",
          "traceback": [
            "\u001b[0;36m  File \u001b[0;32m\"<ipython-input-75-ad2940b5aff9>\"\u001b[0;36m, line \u001b[0;32m29\u001b[0m\n\u001b[0;31m    N = int(0.9*len(NumR))\u001b[0m\n\u001b[0m    ^\u001b[0m\n\u001b[0;31mIndentationError\u001b[0m\u001b[0;31m:\u001b[0m expected an indented block after function definition on line 27\n"
          ]
        }
      ]
    },
    {
      "cell_type": "code",
      "source": [],
      "metadata": {
        "id": "XaoQMR0Kla2Y"
      },
      "execution_count": null,
      "outputs": []
    },
    {
      "cell_type": "code",
      "source": [],
      "metadata": {
        "colab": {
          "base_uri": "https://localhost:8080/"
        },
        "id": "mW6s8Etu6jTt",
        "outputId": "d0037c01-9955-483c-8f42-2c215c956897"
      },
      "execution_count": null,
      "outputs": [
        {
          "output_type": "stream",
          "name": "stdout",
          "text": [
            "Asignaciones de inversión: {'Acciones': 5000.0, 'Bonos': 3000.0, 'Bienes Raíces': 2000.0}\n"
          ]
        }
      ]
    },
    {
      "cell_type": "code",
      "source": [],
      "metadata": {
        "id": "VEk-9TeVS1-0"
      },
      "execution_count": null,
      "outputs": []
    },
    {
      "cell_type": "code",
      "source": [],
      "metadata": {
        "id": "nGbD2Wh3S2HY"
      },
      "execution_count": null,
      "outputs": []
    },
    {
      "cell_type": "markdown",
      "source": [
        "Chat gpt"
      ],
      "metadata": {
        "id": "ObaPgv-pS2xj"
      }
    },
    {
      "cell_type": "code",
      "source": [
        "class Robot:\n",
        "    def __init__(self, f, Id, T):\n",
        "        self.Id = Id\n",
        "        self.f = f\n",
        "        self.h = np.zeros(T)  # Array para almacenar los valores aleatorios\n",
        "\n",
        "        # Generar valores aleatorios\n",
        "        for i in range(T):\n",
        "            self.h[i] = np.random.uniform(1.0, 100.0)  # Asignar valor aleatorio al array\n",
        "\n",
        "        # Normalizar el array para que la suma sea 1\n",
        "        self.h /= np.sum(self.h)  # Dividir cada elemento por la suma total\n",
        "\n",
        "# Ejemplo de uso\n",
        "\"\"\"T = 10  # Tamaño del array\n",
        "robot = Robot(func_de_retorno,1, T)  # Asegúrate de que tu función f esté definida\"\"\"\n",
        "def GetRobots(N,tam):\n",
        "\n",
        "\n",
        "  Robots = []\n",
        "\n",
        "  for i in range(N):\n",
        "    r = Robot(func_de_retorno,i,tam)\n",
        "    Robots.append(r)\n",
        "\n",
        "  return Robots\n",
        "\n",
        "NumR=GetRobots(50,len(C))\n",
        "\n",
        "for i in range(len(NumR)):\n",
        "  print(NumR[i].h)\n",
        "\n",
        "  def SetFitness(self):\n",
        "    h = 1e-2\n",
        "    derivada = (self.f(self.r+h) - self.f(self.r-h))/(2*h)\n",
        "    self.fitness = np.abs(derivada) + 0.1\n",
        "\n",
        "def SetFitness(self,N):\n",
        "  core=np.zeros(N)\n",
        "  Value=np.zeros(N)\n",
        "  C = np.array([8.51,10.68,12.24,13.66,15.37,17.15,19.66,24.69])\n",
        "  Ca=1000000\n",
        "  bots=GetRobots(N,len(C))\n",
        "  for i in range(N)\n",
        "  core.append(bots[i].h)\n",
        "  Value.append(func_de_retorno(C,bots[i].h,Ca))\n",
        "\n",
        "\n",
        "\n",
        "\n",
        "  return core\n",
        "\n",
        "\n",
        "\n",
        "\n",
        "\n",
        "\n",
        "\n",
        "\n",
        "\n",
        "def Genetic(Robots, epochs=30):\n",
        "\n",
        "  N = int(0.9*len(Robots))\n",
        "\n",
        "  for e in range(epochs):\n",
        "\n",
        "     # Plotting stuff\n",
        "    clear_output(wait=True)\n",
        "    _,ax = Plotter(e)\n",
        "\n",
        "    # Mutar el genoma\n",
        "    for i, p in enumerate(Robots):\n",
        "      p.Mutate()\n",
        "      p.SetFitness()\n",
        "\n",
        "    # Queremos medir cual es más apto\n",
        "    score = [ (p.Fitness, p) for p in Robots ]\n",
        "    # Como ordenamos\n",
        "    score = sorted(score, key=lambda x: x[0], reverse=False) # De menor a mayor\n",
        "   # print(score)\n",
        "\n",
        "    Temp = [r[1] for i, r in enumerate(score) if i < N]\n",
        "\n",
        "     # Reintroducción aleatoria de algunos individuos\n",
        "    for i in range(int(0.1 * len(Robots))):  # Un 10% de los robots se reintroducen aleatoriamente\n",
        "        Robots[i] = Robot(FuncionMinimizar, i)\n",
        "\n",
        "    for i,r in enumerate(Robots):\n",
        "      j = i%N\n",
        "      Robots[i] = copy.deepcopy(Temp[j])\n",
        "\n",
        "\n",
        "    # Pintar los robots\n",
        "    for i, p in enumerate(Robots):\n",
        "      #print(i,p)\n",
        "      ax.scatter(p.GetR(),p.f(p.GetR()),marker='o')\n",
        "\n",
        "    t = np.linspace(-5,5,100)\n",
        "    ax.plot(t,FuncionMinimizar(t),color='b')\n",
        "\n",
        "    plt.pause(0.01)\n",
        "    plt.show()\n",
        "\n"
      ],
      "metadata": {
        "colab": {
          "base_uri": "https://localhost:8080/"
        },
        "id": "gSnwf7JkS2Qm",
        "outputId": "6da25dcb-2339-4704-b7aa-2bbdc7c26249"
      },
      "execution_count": null,
      "outputs": [
        {
          "output_type": "stream",
          "name": "stdout",
          "text": [
            "[0.40013142 0.59986858]\n",
            "[0.38067368 0.61932632]\n",
            "[0.79385058 0.20614942]\n",
            "[0.82252167 0.17747833]\n",
            "[0.89519917 0.10480083]\n",
            "[0.39856191 0.60143809]\n",
            "[0.50386211 0.49613789]\n",
            "[0.73347263 0.26652737]\n",
            "[0.37961555 0.62038445]\n",
            "[0.64727933 0.35272067]\n",
            "[0.50479383 0.49520617]\n",
            "[0.98516716 0.01483284]\n",
            "[0.07086291 0.92913709]\n",
            "[0.3907026 0.6092974]\n",
            "[0.34238787 0.65761213]\n",
            "[0.74297797 0.25702203]\n",
            "[0.79202371 0.20797629]\n",
            "[0.52636545 0.47363455]\n",
            "[0.27046302 0.72953698]\n",
            "[0.51228109 0.48771891]\n",
            "[0.83688846 0.16311154]\n",
            "[0.59069293 0.40930707]\n",
            "[0.15786183 0.84213817]\n",
            "[0.47911999 0.52088001]\n",
            "[0.62059601 0.37940399]\n",
            "[0.06494343 0.93505657]\n",
            "[0.41096268 0.58903732]\n",
            "[0.55372164 0.44627836]\n",
            "[0.40414855 0.59585145]\n",
            "[0.76621706 0.23378294]\n",
            "[0.55866568 0.44133432]\n",
            "[0.89376994 0.10623006]\n",
            "[0.40750951 0.59249049]\n",
            "[0.73185476 0.26814524]\n",
            "[0.04410723 0.95589277]\n",
            "[0.46954914 0.53045086]\n",
            "[0.30682574 0.69317426]\n",
            "[0.74068774 0.25931226]\n",
            "[0.93323671 0.06676329]\n",
            "[0.39461351 0.60538649]\n",
            "[0.65987923 0.34012077]\n",
            "[0.887293 0.112707]\n",
            "[0.38967532 0.61032468]\n",
            "[0.59002827 0.40997173]\n",
            "[0.9153763 0.0846237]\n",
            "[0.51553557 0.48446443]\n",
            "[0.14157172 0.85842828]\n",
            "[0.02349917 0.97650083]\n",
            "[0.4630646 0.5369354]\n",
            "[0.43055163 0.56944837]\n"
          ]
        }
      ]
    },
    {
      "cell_type": "code",
      "source": [],
      "metadata": {
        "id": "qJDfqYbgbafC"
      },
      "execution_count": null,
      "outputs": []
    }
  ]
}