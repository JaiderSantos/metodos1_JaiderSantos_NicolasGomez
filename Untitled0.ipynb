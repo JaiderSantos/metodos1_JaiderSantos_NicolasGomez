{
  "nbformat": 4,
  "nbformat_minor": 0,
  "metadata": {
    "colab": {
      "provenance": [],
      "toc_visible": true,
      "authorship_tag": "ABX9TyNU44DxXGrnleq2fF3zsZqZ",
      "include_colab_link": true
    },
    "kernelspec": {
      "name": "python3",
      "display_name": "Python 3"
    },
    "language_info": {
      "name": "python"
    }
  },
  "cells": [
    {
      "cell_type": "markdown",
      "metadata": {
        "id": "view-in-github",
        "colab_type": "text"
      },
      "source": [
        "<a href=\"https://colab.research.google.com/github/JaiderSantos/metodos1_JaiderSantos_NicolasGomez/blob/main/Untitled0.ipynb\" target=\"_parent\"><img src=\"https://colab.research.google.com/assets/colab-badge.svg\" alt=\"Open In Colab\"/></a>"
      ]
    },
    {
      "cell_type": "code",
      "execution_count": 1,
      "metadata": {
        "id": "9mJTrLvn6TeA"
      },
      "outputs": [],
      "source": [
        "import math as mt\n",
        "def multiplicacion(n, m):\n",
        "  resultado = mt.pi*n*m\n",
        "  return resultado"
      ]
    },
    {
      "cell_type": "code",
      "source": [
        "print(multiplicacion(8,9))"
      ],
      "metadata": {
        "colab": {
          "base_uri": "https://localhost:8080/"
        },
        "id": "8iq6apI96yZ8",
        "outputId": "d2b1088c-f3f1-4135-84b2-877d7971410b"
      },
      "execution_count": 2,
      "outputs": [
        {
          "output_type": "stream",
          "name": "stdout",
          "text": [
            "226.1946710584651\n"
          ]
        }
      ]
    }
  ]
}