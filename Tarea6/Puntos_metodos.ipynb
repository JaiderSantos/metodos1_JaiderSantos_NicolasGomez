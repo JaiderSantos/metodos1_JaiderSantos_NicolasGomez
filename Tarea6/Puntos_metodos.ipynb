{
  "nbformat": 4,
  "nbformat_minor": 0,
  "metadata": {
    "colab": {
      "provenance": [],
      "authorship_tag": "ABX9TyM9JkG51hBndkXCnUegktsS",
      "include_colab_link": true
    },
    "kernelspec": {
      "name": "python3",
      "display_name": "Python 3"
    },
    "language_info": {
      "name": "python"
    }
  },
  "cells": [
    {
      "cell_type": "markdown",
      "metadata": {
        "id": "view-in-github",
        "colab_type": "text"
      },
      "source": [
        "<a href=\"https://colab.research.google.com/github/JaiderSantos/metodos1_JaiderSantos_NicolasGomez/blob/main/Tarea6/Puntos_metodos.ipynb\" target=\"_parent\"><img src=\"https://colab.research.google.com/assets/colab-badge.svg\" alt=\"Open In Colab\"/></a>"
      ]
    },
    {
      "cell_type": "markdown",
      "source": [
        "# EL SIGUIENTE ENLACE LLEVA A LOS PUNTOS DE:\n",
        "1) Ejercicios Axiomas de probabilidad \\\n",
        "2) Ejercicios Probabilidad condicional y total \\\n",
        "3) Teorema de Bayes \\\n",
        "4) Técnicas de conteo \\\n",
        "\n",
        "https://drive.google.com/file/d/1NIUQiFpSmwVyEKhgtRxPlNZ3SRrzvpti/view?usp=drive_link"
      ],
      "metadata": {
        "id": "9IwcdMnVZhah"
      }
    }
  ]
}