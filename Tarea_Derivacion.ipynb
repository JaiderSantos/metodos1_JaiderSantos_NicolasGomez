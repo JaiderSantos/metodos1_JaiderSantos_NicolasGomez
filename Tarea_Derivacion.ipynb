{
  "nbformat": 4,
  "nbformat_minor": 0,
  "metadata": {
    "colab": {
      "provenance": [],
      "authorship_tag": "ABX9TyO8v51EiPxcYy0y+WfwUdPJ",
      "include_colab_link": true
    },
    "kernelspec": {
      "name": "python3",
      "display_name": "Python 3"
    },
    "language_info": {
      "name": "python"
    }
  },
  "cells": [
    {
      "cell_type": "markdown",
      "metadata": {
        "id": "view-in-github",
        "colab_type": "text"
      },
      "source": [
        "<a href=\"https://colab.research.google.com/github/JaiderSantos/metodos1_JaiderSantos_NicolasGomez/blob/main/Tarea_Derivacion.ipynb\" target=\"_parent\"><img src=\"https://colab.research.google.com/assets/colab-badge.svg\" alt=\"Open In Colab\"/></a>"
      ]
    },
    {
      "cell_type": "markdown",
      "source": [
        "# \"TAREA 1: MAXIMOS 2.0.2\"\n"
      ],
      "metadata": {
        "id": "e_ZVlUqyJrac"
      }
    },
    {
      "cell_type": "code",
      "execution_count": 15,
      "metadata": {
        "id": "E1JccCjCG5M1"
      },
      "outputs": [],
      "source": [
        "import numpy as np\n",
        "import matplotlib.pyplot as plt"
      ]
    },
    {
      "cell_type": "code",
      "source": [
        "data = np.loadtxt(\"EstrellaEspectro.txt\")\n",
        "data"
      ],
      "metadata": {
        "colab": {
          "base_uri": "https://localhost:8080/"
        },
        "id": "4d3kV5fdHHcj",
        "outputId": "9e210181-92a7-4b6c-869c-ddc51c41ca20",
        "collapsed": true
      },
      "execution_count": null,
      "outputs": [
        {
          "output_type": "execute_result",
          "data": {
            "text/plain": [
              "array([[3.33999991, 1.00745   ],\n",
              "       [3.3438383 , 1.01934   ],\n",
              "       [3.34767668, 1.036267  ],\n",
              "       [3.35151507, 1.017304  ],\n",
              "       [3.35535345, 1.004918  ],\n",
              "       [3.35919183, 1.03554   ],\n",
              "       [3.36303022, 1.025355  ],\n",
              "       [3.3668686 , 1.01459   ],\n",
              "       [3.37070698, 1.024369  ],\n",
              "       [3.37454537, 0.9933972 ],\n",
              "       [3.37838375, 1.000192  ],\n",
              "       [3.38222214, 1.045406  ],\n",
              "       [3.38606052, 1.020369  ],\n",
              "       [3.3898989 , 0.9900815 ],\n",
              "       [3.39373729, 1.012803  ],\n",
              "       [3.39757567, 0.9990528 ],\n",
              "       [3.40141406, 1.005919  ],\n",
              "       [3.40525244, 1.030349  ],\n",
              "       [3.40909082, 0.9977326 ],\n",
              "       [3.41292921, 0.9900364 ],\n",
              "       [3.41676759, 1.015571  ],\n",
              "       [3.42060597, 0.9998463 ],\n",
              "       [3.42444436, 0.9990111 ],\n",
              "       [3.42828274, 1.035833  ],\n",
              "       [3.43212113, 1.028995  ],\n",
              "       [3.43595951, 1.007022  ],\n",
              "       [3.43979789, 1.017348  ],\n",
              "       [3.44363628, 1.005415  ],\n",
              "       [3.44747466, 0.9981713 ],\n",
              "       [3.45131305, 1.02287   ],\n",
              "       [3.45515143, 1.012846  ],\n",
              "       [3.45898981, 0.9929096 ],\n",
              "       [3.4628282 , 1.001849  ],\n",
              "       [3.46666658, 1.013802  ],\n",
              "       [3.47050496, 1.008953  ],\n",
              "       [3.47434335, 0.9903569 ],\n",
              "       [3.47818173, 0.9661365 ],\n",
              "       [3.48202012, 0.9348084 ],\n",
              "       [3.4858585 , 0.9390462 ],\n",
              "       [3.48969688, 0.9808012 ],\n",
              "       [3.49353527, 0.9909021 ],\n",
              "       [3.49737365, 0.9940714 ],\n",
              "       [3.50121203, 1.014246  ],\n",
              "       [3.50505042, 1.020233  ],\n",
              "       [3.5088888 , 1.002623  ],\n",
              "       [3.51272719, 0.9949392 ],\n",
              "       [3.51656557, 1.003239  ],\n",
              "       [3.52040395, 1.016591  ],\n",
              "       [3.52424234, 1.034254  ],\n",
              "       [3.52808072, 1.019685  ],\n",
              "       [3.53191911, 1.01148   ],\n",
              "       [3.53575749, 1.02666   ],\n",
              "       [3.53959587, 1.022359  ],\n",
              "       [3.54343426, 1.002157  ],\n",
              "       [3.54727264, 1.000995  ],\n",
              "       [3.55111102, 1.014296  ],\n",
              "       [3.55494941, 1.003491  ],\n",
              "       [3.55878779, 1.015367  ],\n",
              "       [3.56262618, 1.024395  ],\n",
              "       [3.56646456, 0.9999497 ],\n",
              "       [3.57030294, 0.9826334 ],\n",
              "       [3.57414133, 0.9887425 ],\n",
              "       [3.57797971, 1.01153   ],\n",
              "       [3.5818181 , 1.026873  ],\n",
              "       [3.58565648, 1.037869  ],\n",
              "       [3.58949486, 1.040716  ],\n",
              "       [3.59333325, 1.024388  ],\n",
              "       [3.59717163, 0.9909052 ],\n",
              "       [3.60101001, 0.9712995 ],\n",
              "       [3.6048484 , 0.9762809 ],\n",
              "       [3.60868678, 0.9860619 ],\n",
              "       [3.61252517, 0.997323  ],\n",
              "       [3.61636355, 1.014175  ],\n",
              "       [3.62020193, 1.027063  ],\n",
              "       [3.62404032, 1.022454  ],\n",
              "       [3.6278787 , 1.02262   ],\n",
              "       [3.63171708, 1.039316  ],\n",
              "       [3.63555547, 1.037949  ],\n",
              "       [3.63939385, 1.041238  ],\n",
              "       [3.64323224, 1.060527  ],\n",
              "       [3.64707062, 1.05843   ],\n",
              "       [3.650909  , 1.030091  ],\n",
              "       [3.65474739, 0.9946704 ],\n",
              "       [3.65858577, 0.993714  ],\n",
              "       [3.66242416, 1.008135  ],\n",
              "       [3.66626254, 1.009413  ],\n",
              "       [3.67010092, 1.04456   ],\n",
              "       [3.67393931, 1.051431  ],\n",
              "       [3.67777769, 1.021838  ],\n",
              "       [3.68161607, 1.020469  ],\n",
              "       [3.68545446, 1.011957  ],\n",
              "       [3.68929284, 0.9998714 ],\n",
              "       [3.69313123, 1.007554  ],\n",
              "       [3.69696961, 1.027467  ],\n",
              "       [3.70080799, 1.073974  ],\n",
              "       [3.70464638, 1.089617  ],\n",
              "       [3.70848476, 1.063349  ],\n",
              "       [3.71232315, 1.050621  ],\n",
              "       [3.71616153, 1.131707  ],\n",
              "       [3.71999991, 1.265055  ],\n",
              "       [3.7238383 , 1.330906  ],\n",
              "       [3.72767668, 1.292157  ],\n",
              "       [3.73151506, 1.185331  ],\n",
              "       [3.73535345, 1.100185  ],\n",
              "       [3.73919183, 1.031948  ],\n",
              "       [3.74303022, 1.029718  ],\n",
              "       [3.7468686 , 1.032746  ],\n",
              "       [3.75070698, 1.014638  ],\n",
              "       [3.75454537, 0.9920562 ],\n",
              "       [3.75838375, 0.9898767 ],\n",
              "       [3.76222213, 0.9745881 ],\n",
              "       [3.76606052, 0.9519024 ],\n",
              "       [3.7698989 , 0.9581258 ],\n",
              "       [3.77373729, 0.9904009 ],\n",
              "       [3.77757567, 1.031765  ],\n",
              "       [3.78141405, 1.020715  ],\n",
              "       [3.78525244, 1.025134  ],\n",
              "       [3.78909082, 1.068328  ],\n",
              "       [3.79292921, 1.06593   ],\n",
              "       [3.79676759, 1.025116  ],\n",
              "       [3.80060597, 1.044219  ],\n",
              "       [3.80444436, 1.102898  ],\n",
              "       [3.80828274, 1.100854  ],\n",
              "       [3.81212112, 1.046926  ],\n",
              "       [3.81595951, 1.030022  ],\n",
              "       [3.81979789, 1.040657  ],\n",
              "       [3.82363628, 1.064289  ],\n",
              "       [3.82747466, 1.061595  ],\n",
              "       [3.83131304, 1.039822  ],\n",
              "       [3.83515143, 1.021725  ],\n",
              "       [3.83898981, 1.014149  ],\n",
              "       [3.8428282 , 1.012942  ],\n",
              "       [3.84666658, 0.9960786 ],\n",
              "       [3.85050496, 1.0171    ],\n",
              "       [3.85434335, 1.040364  ],\n",
              "       [3.85818173, 1.007777  ],\n",
              "       [3.86202011, 0.9942657 ],\n",
              "       [3.8658585 , 1.044742  ],\n",
              "       [3.86969688, 1.079907  ],\n",
              "       [3.87353527, 1.03425   ],\n",
              "       [3.87737365, 0.9789153 ],\n",
              "       [3.88121203, 0.9751886 ],\n",
              "       [3.88505042, 1.000827  ],\n",
              "       [3.8888888 , 1.000317  ],\n",
              "       [3.89272719, 0.9981111 ],\n",
              "       [3.89656557, 1.052629  ],\n",
              "       [3.90040395, 1.089922  ],\n",
              "       [3.90424234, 1.052088  ],\n",
              "       [3.90808072, 1.016782  ],\n",
              "       [3.9119191 , 0.9986883 ],\n",
              "       [3.91575749, 0.9949327 ],\n",
              "       [3.91959587, 1.01011   ],\n",
              "       [3.92343426, 1.028286  ],\n",
              "       [3.92727264, 1.030706  ],\n",
              "       [3.93111102, 1.019874  ],\n",
              "       [3.93494941, 1.025699  ],\n",
              "       [3.93878779, 1.012735  ],\n",
              "       [3.94262617, 0.9648931 ],\n",
              "       [3.94646456, 0.9691544 ],\n",
              "       [3.95030294, 0.9971942 ],\n",
              "       [3.95414133, 0.9776724 ],\n",
              "       [3.95797971, 0.9710475 ],\n",
              "       [3.96181809, 0.9887193 ],\n",
              "       [3.96565648, 0.9922253 ],\n",
              "       [3.96949486, 0.9934807 ],\n",
              "       [3.97333325, 1.008569  ],\n",
              "       [3.97717163, 0.9966778 ],\n",
              "       [3.98101001, 0.9688108 ],\n",
              "       [3.9848484 , 0.9734649 ],\n",
              "       [3.98868678, 0.9919649 ],\n",
              "       [3.99252516, 1.021694  ],\n",
              "       [3.99636355, 1.041762  ],\n",
              "       [4.00020193, 1.027368  ],\n",
              "       [4.00404032, 1.02235   ],\n",
              "       [4.0078787 , 1.028908  ],\n",
              "       [4.01171708, 1.025404  ],\n",
              "       [4.01555547, 1.026278  ],\n",
              "       [4.01939385, 1.029255  ],\n",
              "       [4.02323224, 1.023356  ],\n",
              "       [4.02707062, 1.03355   ],\n",
              "       [4.030909  , 1.085186  ],\n",
              "       [4.03474739, 1.124212  ],\n",
              "       [4.03858577, 1.147828  ],\n",
              "       [4.04242415, 1.129273  ],\n",
              "       [4.04626254, 1.00242   ],\n",
              "       [4.05010092, 0.9142942 ],\n",
              "       [4.05393931, 0.9690735 ],\n",
              "       [4.05777769, 1.019188  ],\n",
              "       [4.06161607, 1.103838  ],\n",
              "       [4.06545446, 1.386635  ],\n",
              "       [4.06929284, 1.657519  ],\n",
              "       [4.07313122, 1.653857  ],\n",
              "       [4.07696961, 1.492341  ],\n",
              "       [4.08080799, 1.337742  ],\n",
              "       [4.08464638, 1.169107  ],\n",
              "       [4.08848476, 1.021024  ],\n",
              "       [4.09232314, 0.9648333 ],\n",
              "       [4.09616153, 1.009015  ]])"
            ]
          },
          "metadata": {},
          "execution_count": 3
        }
      ]
    },
    {
      "cell_type": "code",
      "source": [
        "def diferenciacion(data):\n",
        "\n",
        "  max = []\n",
        "  for el in range(len(data)):\n",
        "    y_prima=(data[el][1]-data[el][1])/(data[el][0]-data[el-1][0])\n",
        "    if abs(y_prima) < 0.0005:\n",
        "\n",
        "      max.append((data[el]))\n",
        "  return max"
      ],
      "metadata": {
        "id": "nJNJmeuTHrBg"
      },
      "execution_count": null,
      "outputs": []
    },
    {
      "cell_type": "code",
      "source": [
        "datos_derivados = diferenciacion(data)"
      ],
      "metadata": {
        "collapsed": true,
        "id": "TjFuIvjgKsm4"
      },
      "execution_count": null,
      "outputs": []
    },
    {
      "cell_type": "markdown",
      "source": [
        "# 2.0.5 ESPIRAL DE ARQUÍMEDES"
      ],
      "metadata": {
        "id": "NUnF4wR8ayoc"
      }
    },
    {
      "cell_type": "code",
      "source": [
        "#Creación transformar coordenadas\n",
        "a = 0\n",
        "b = 1\n",
        "theta = np.linspace(0, 2 * np.pi, 2000)\n",
        "r = a + b*theta\n",
        "#______________\n",
        "X = r*np.cos(theta)\n",
        "Y = r*np.sin(theta)\n"
      ],
      "metadata": {
        "id": "hPa1tZC_axUC"
      },
      "execution_count": 21,
      "outputs": []
    },
    {
      "cell_type": "code",
      "source": [
        "plt.scatter(X, Y)\n",
        "plt.axhline(y=0, color=\"r\")"
      ],
      "metadata": {
        "colab": {
          "base_uri": "https://localhost:8080/",
          "height": 447
        },
        "id": "gexOeXJhb6Ov",
        "outputId": "cbe82ea2-3408-49c8-89ec-e1301e0c8d40"
      },
      "execution_count": 26,
      "outputs": [
        {
          "output_type": "execute_result",
          "data": {
            "text/plain": [
              "<matplotlib.lines.Line2D at 0x7998a9170460>"
            ]
          },
          "metadata": {},
          "execution_count": 26
        },
        {
          "output_type": "display_data",
          "data": {
            "text/plain": [
              "<Figure size 640x480 with 1 Axes>"
            ],
            "image/png": "[encoded data removed]"
          },
          "metadata": {}
        }
      ]
    },
    {
      "cell_type": "markdown",
      "source": [
        "Al ser entre 0 y 2pi, la espiral inicia y acaba en 0, r es proporcional a theta, así ue por eso tiene forma de espiral."
      ],
      "metadata": {
        "id": "FwHKFqhYd_Fi"
      }
    },
    {
      "cell_type": "code",
      "source": [],
      "metadata": {
        "id": "g6CoEZpZcBjA"
      },
      "execution_count": null,
      "outputs": []
    }
  ]
}